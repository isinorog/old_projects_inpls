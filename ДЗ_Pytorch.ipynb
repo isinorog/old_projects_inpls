{
  "nbformat": 4,
  "nbformat_minor": 0,
  "metadata": {
    "colab": {
      "provenance": []
    },
    "kernelspec": {
      "name": "python3",
      "display_name": "Python 3"
    },
    "language_info": {
      "name": "python"
    },
    "gpuClass": "standard",
    "accelerator": "GPU"
  },
  "cells": [
    {
      "cell_type": "markdown",
      "source": [
        "Загрузка всех необходимых модулей"
      ],
      "metadata": {
        "id": "T8DrKY9gnvGp"
      }
    },
    {
      "cell_type": "code",
      "source": [
        "from numpy import vstack\n",
        "from numpy import argmax\n",
        "from pandas import read_csv\n",
        "from sklearn.metrics import accuracy_score\n",
        "from torchvision.datasets import MNIST\n",
        "from torchvision.transforms import Compose\n",
        "from torchvision.transforms import ToTensor\n",
        "from torchvision.transforms import Normalize\n",
        "from torch.utils.data import DataLoader\n",
        "from torch.nn import Conv2d\n",
        "from torch.nn import MaxPool2d\n",
        "from torch.nn import Linear\n",
        "from torch.nn import ReLU\n",
        "from torch.nn import Softmax\n",
        "from torch.nn import Module\n",
        "from torch.optim import SGD\n",
        "from torch.optim import Adam\n",
        "from torch.nn import CrossEntropyLoss\n",
        "from torch.nn.init import kaiming_uniform_\n",
        "from torch.nn.init import xavier_uniform_\n",
        "import matplotlib.pyplot as plt\n",
        "import numpy as np\n",
        "import sys\n",
        "import torch\n",
        "from scipy.ndimage.filters import gaussian_filter1d\n",
        "from PIL import Image, ImageOps\n",
        "from torch import Tensor\n",
        "import matplotlib.patches as patches"
      ],
      "metadata": {
        "id": "zNuU3DHiLZgo"
      },
      "execution_count": null,
      "outputs": []
    },
    {
      "cell_type": "code",
      "source": [
        "class CNN(Module):\n",
        "  #на вход принимает количество каналов\n",
        "  def __init__(self, n_channels):\n",
        "    super().__init__()\n",
        "    self.hidden1 = Conv2d(n_channels, 32, (3,3))\n",
        "    kaiming_uniform_(self.hidden1.weight, nonlinearity='relu')\n",
        "    self.act1 = ReLU()\n",
        "    self.pool1 = MaxPool2d((2,2), stride=(2,2))\n",
        "    self.hidden2 = Conv2d(32, 32, (3,3))\n",
        "    kaiming_uniform_(self.hidden2.weight, nonlinearity='relu')\n",
        "    self.act2 = ReLU()\n",
        "    self.pool2 = MaxPool2d((2,2), stride=(2,2))\n",
        "    self.hidden3 = Linear(5*5*32, 100)\n",
        "    kaiming_uniform_(self.hidden3.weight, nonlinearity='relu')\n",
        "    self.act3 = ReLU()\n",
        "    #одномерный массив из 100 элементов классифицируем на 10 элементов\n",
        "    self.hidden4 = Linear(100, 10)\n",
        "    xavier_uniform_(self.hidden4.weight)\n",
        "    self.act4 = Softmax(dim=1)\n",
        "\n",
        "  #последовательность сборки CNN\n",
        "  def forward(self, X):\n",
        "    #собираем два сверточных слоя\n",
        "    X = self.hidden1(X)\n",
        "    X = self.act1(X)\n",
        "    X = self.pool1(X)\n",
        "    X = self.hidden2(X)\n",
        "    X = self.act2(X)\n",
        "    X = self.pool2(X)\n",
        "    #сделать многомерный одномерным\n",
        "    X = X.view(-1, 4*4*50)\n",
        "    X = self.hidden3(X)\n",
        "    X = self.act3(X)\n",
        "    X = self.hidden4(X)\n",
        "    X = self.act4(X)\n",
        "    return X\n",
        "\n",
        "#подготовка данных (скачать и загрузить в папку - path)\n",
        "def prepare_data(path, img_show=False, num=0):\n",
        "  transforms = Compose([ToTensor(), Normalize((0.1307,), (0.3081,))])\n",
        "  train = MNIST(path, train=True, download=True, transform=transforms)\n",
        "  test = MNIST(path, train=False, download=True, transform=transforms)\n",
        "  #вывод цифры из массива MNIST\n",
        "  if img_show:\n",
        "    fg = test[num]\n",
        "    label = fg[1]\n",
        "    img = fg[0].data\n",
        "    #сжимает в один одномерный массив всё\n",
        "    img = img.squeeze()\n",
        "    plt.imshow(img, cmap = plt.get_cmap('gray'))\n",
        "    plt.title(label)\n",
        "    plt.axis('off')\n",
        "    plt.show()\n",
        "  train_dl = DataLoader(train, batch_size=64, shuffle=True)\n",
        "  test_dl = DataLoader(test, batch_size=1024, shuffle=False)\n",
        "  return train_dl, test_dl\n",
        "\n",
        "#обучение модели\n",
        "def train_model(train_dl, model, save_model=False, load_model=False):\n",
        "  criterion = CrossEntropyLoss()#функция потерь\n",
        "  optimizer = SGD(model.parameters(), lr=0.01, momentum=0.9)#оптимизатор\n",
        "  #если файл уже есть, то загрузить параметры из него\n",
        "  if load_model:\n",
        "    print('Загрузка весов из файла', 'model.pytorch')\n",
        "    device = torch.device('cuda' if torch.cuda.is_available() else 'cpu')\n",
        "    model.load_state_dict(torch.load('model.pytorch', map_location = torch.device(device)))\n",
        "  for epoch in range(10):\n",
        "    for i, (inputs, labels) in enumerate(train_dl):\n",
        "      #при каждой итерации обнуляем массив весов для коррекции от предыдущих значений\n",
        "      optimizer.zero_grad()\n",
        "      #обучаем модель на данных train_dl\n",
        "      y_pred = model(inputs)\n",
        "      #находим ошибку между предсказанными и итоговыми y\n",
        "      loss = criterion(y_pred, labels)\n",
        "      #функция обратного распр ошибки\n",
        "      loss.backward()\n",
        "      #меняем веса\n",
        "      optimizer.step()\n",
        "    print('Эпоха: {} [{}/{} ({:.0f}%)]\\tПотери: {:.6f}'.format(epoch+1, i * len(inputs), len(train_dl.dataset), 100 * i / len(train_dl), loss.item()))\n",
        "  #сохранение модели в файл\n",
        "  if save_model:\n",
        "      print('Сохранение весов модели в файл')\n",
        "      torch.save(model.state_dict(), 'model.pytorch')\n",
        "\n",
        "#оценка модели\n",
        "def evaluate_model(test_dl, model):\n",
        "  pred, actuals = list(), list()\n",
        "  for i, (inputs, labels) in enumerate(test_dl):\n",
        "    y_pred = model(inputs)\n",
        "    y_pred = y_pred.detach().numpy()\n",
        "    real = labels.numpy()\n",
        "    #находим максимальное значение\n",
        "    y_pred = argmax(y_pred, axis=1)\n",
        "    real = real.reshape((len(real), 1))\n",
        "    y_pred = y_pred.reshape((len(y_pred), 1))\n",
        "    pred.append(y_pred)\n",
        "    actuals.append(real)\n",
        "  pred, actuals = vstack(pred), vstack(actuals)\n",
        "  #нахождение точности\n",
        "  acc = accuracy_score(actuals, pred)\n",
        "  return acc\n",
        "\n",
        "#предсказание новых данных\n",
        "def predict(image, model):\n",
        "  #преобразование массива numpy в тензор\n",
        "  image = Tensor([image]).float()\n",
        "  #передача тензора в обученную модель\n",
        "  y_pred = model(image)\n",
        "  #преобразование тензора в массив\n",
        "  y_pred = y_pred.detach().numpy()\n",
        "  arr_num = np.arange(0,10)\n",
        "  #нахождение предсказанной цифры\n",
        "  index = np.argmax(y_pred)\n",
        "  return arr_num[index]"
      ],
      "metadata": {
        "id": "LBLh1b3ieFep"
      },
      "execution_count": null,
      "outputs": []
    },
    {
      "cell_type": "code",
      "source": [
        "#путь, где будут хранится данные MNIST\n",
        "path = '~/.torch/datasets/mnist'"
      ],
      "metadata": {
        "id": "cWxB6MJq-wjW"
      },
      "execution_count": null,
      "outputs": []
    },
    {
      "cell_type": "code",
      "source": [
        "#загрузка данных и показ 100 по счётц цифры из массива для обучения\n",
        "train_dl, test_dl = prepare_data(path, img_show=True, num=100)"
      ],
      "metadata": {
        "id": "nnKHnK2a--42",
        "colab": {
          "base_uri": "https://localhost:8080/",
          "height": 264
        },
        "outputId": "eba55f11-1674-4491-83f9-c443be7586dd"
      },
      "execution_count": null,
      "outputs": [
        {
          "output_type": "display_data",
          "data": {
            "text/plain": [
              "<Figure size 432x288 with 1 Axes>"
            ],
            "image/png": "[encoded data removed]"
          },
          "metadata": {
            "needs_background": "light"
          }
        }
      ]
    },
    {
      "cell_type": "code",
      "source": [
        "#вызов модели\n",
        "model = CNN(1)\n",
        "#структура сети\n",
        "print(model)"
      ],
      "metadata": {
        "id": "_H07mYz0_R4D",
        "colab": {
          "base_uri": "https://localhost:8080/"
        },
        "outputId": "7687c593-0041-463a-a52a-6232394720f1"
      },
      "execution_count": null,
      "outputs": [
        {
          "output_type": "stream",
          "name": "stdout",
          "text": [
            "CNN(\n",
            "  (hidden1): Conv2d(1, 32, kernel_size=(3, 3), stride=(1, 1))\n",
            "  (act1): ReLU()\n",
            "  (pool1): MaxPool2d(kernel_size=(2, 2), stride=(2, 2), padding=0, dilation=1, ceil_mode=False)\n",
            "  (hidden2): Conv2d(32, 32, kernel_size=(3, 3), stride=(1, 1))\n",
            "  (act2): ReLU()\n",
            "  (pool2): MaxPool2d(kernel_size=(2, 2), stride=(2, 2), padding=0, dilation=1, ceil_mode=False)\n",
            "  (hidden3): Linear(in_features=800, out_features=100, bias=True)\n",
            "  (act3): ReLU()\n",
            "  (hidden4): Linear(in_features=100, out_features=10, bias=True)\n",
            "  (act4): Softmax(dim=1)\n",
            ")\n"
          ]
        }
      ]
    },
    {
      "cell_type": "code",
      "source": [
        "#обучение сети с параметром сохранения параметров в файл\n",
        "train_model(train_dl, model, save_model=True)"
      ],
      "metadata": {
        "colab": {
          "base_uri": "https://localhost:8080/"
        },
        "id": "_-RH6j7sAEnB",
        "outputId": "d4c44801-c473-47ac-d32e-6b7f998627a2"
      },
      "execution_count": null,
      "outputs": [
        {
          "output_type": "stream",
          "name": "stdout",
          "text": [
            "Эпоха: 1 [29984/60000 (100%)]\tПотери: 1.677490\n",
            "Эпоха: 2 [29984/60000 (100%)]\tПотери: 1.583595\n",
            "Эпоха: 3 [29984/60000 (100%)]\tПотери: 1.494003\n",
            "Эпоха: 4 [29984/60000 (100%)]\tПотери: 1.468855\n",
            "Эпоха: 5 [29984/60000 (100%)]\tПотери: 1.466141\n",
            "Эпоха: 6 [29984/60000 (100%)]\tПотери: 1.504125\n",
            "Эпоха: 7 [29984/60000 (100%)]\tПотери: 1.530418\n",
            "Эпоха: 8 [29984/60000 (100%)]\tПотери: 1.461969\n",
            "Эпоха: 9 [29984/60000 (100%)]\tПотери: 1.461176\n",
            "Эпоха: 10 [29984/60000 (100%)]\tПотери: 1.461217\n",
            "Сохранение весов модели в файл\n"
          ]
        }
      ]
    },
    {
      "cell_type": "code",
      "source": [
        "#проверка точности\n",
        "acc = evaluate_model(test_dl,model)\n",
        "print('Accuracy: {}'.format(acc))"
      ],
      "metadata": {
        "id": "4D5k5WfxdShQ",
        "colab": {
          "base_uri": "https://localhost:8080/"
        },
        "outputId": "4e026c78-10b2-44f1-932d-ce4c865ab394"
      },
      "execution_count": null,
      "outputs": [
        {
          "output_type": "stream",
          "name": "stdout",
          "text": [
            "Accuracy: 0.9884\n"
          ]
        }
      ]
    },
    {
      "cell_type": "markdown",
      "source": [
        "В Paint от руки были написаны цифры от 0 до 9, которыми была совершена итоговая проверка модели"
      ],
      "metadata": {
        "id": "-kK1Oe6lslkU"
      }
    },
    {
      "cell_type": "code",
      "source": [
        "#преобразование изображения, на вход принимает путь до картинка\n",
        "def get_image(path_img):\n",
        "  img = Image.open(path_img)\n",
        "  img = img.convert('L')\n",
        "  img = ImageOps.invert(img)\n",
        "  img = np.array(img).astype('float32')/256\n",
        "  return img"
      ],
      "metadata": {
        "id": "rXA3fLRYlV36"
      },
      "execution_count": null,
      "outputs": []
    },
    {
      "cell_type": "code",
      "source": [
        "#через цикл выведены все изображения\n",
        "fig = plt.figure(figsize = (12, 3))\n",
        "for i in range(10):\n",
        "  ax = fig.add_subplot(2, 5, i + 1, xticks = [], yticks = [])\n",
        "  image = get_image(r\"img_\"+str(i)+\".png\")\n",
        "  plt.imshow(image, cmap='gray')"
      ],
      "metadata": {
        "colab": {
          "base_uri": "https://localhost:8080/",
          "height": 197
        },
        "id": "eG3bqxwomzR6",
        "outputId": "b83f465b-583a-4fee-e710-8c9398f78624"
      },
      "execution_count": null,
      "outputs": [
        {
          "output_type": "display_data",
          "data": {
            "text/plain": [
              "<Figure size 864x216 with 10 Axes>"
            ],
            "image/png": "[encoded data removed]"
          },
          "metadata": {}
        }
      ]
    },
    {
      "cell_type": "code",
      "source": [
        "#применение функции сглаживания для границ цифр\n",
        "fig = plt.figure(figsize = (12, 3))\n",
        "arr_test = list()\n",
        "for i in range(10):\n",
        "  ax = fig.add_subplot(2, 5, i + 1, xticks = [], yticks = [])\n",
        "  image = get_image(r\"img_\"+str(i)+\".png\")\n",
        "  test_img = gaussian_filter1d(np.array(image), sigma=1)\n",
        "  arr_test.append(test_img)\n",
        "  ax.imshow(test_img, cmap='gray')"
      ],
      "metadata": {
        "colab": {
          "base_uri": "https://localhost:8080/",
          "height": 197
        },
        "id": "ZlAcMCm2UgUl",
        "outputId": "b9db3b76-4163-4e5e-b12b-4ff552b9da6e"
      },
      "execution_count": null,
      "outputs": [
        {
          "output_type": "display_data",
          "data": {
            "text/plain": [
              "<Figure size 864x216 with 10 Axes>"
            ],
            "image/png": "[encoded data removed]"
          },
          "metadata": {}
        }
      ]
    },
    {
      "cell_type": "code",
      "source": [
        "#предсказание сетью цифр\n",
        "fig = plt.figure(figsize = (12, 4))\n",
        "arr_test = list()\n",
        "for i in range(10):\n",
        "  ax = fig.add_subplot(2, 5, i + 1, xticks = [], yticks = [])\n",
        "  image = get_image(r\"img_\"+str(i)+\".png\")\n",
        "  test_img = gaussian_filter1d(np.array(image), sigma=1)\n",
        "  y_pred = predict(test_img,model)\n",
        "  ax.imshow(test_img, cmap='gray')\n",
        "  ax.set_title(y_pred)"
      ],
      "metadata": {
        "colab": {
          "base_uri": "https://localhost:8080/",
          "height": 268
        },
        "id": "bOPGZeXOdeKX",
        "outputId": "705fd836-0db8-4ba9-d4c9-e1567d6eb445"
      },
      "execution_count": null,
      "outputs": [
        {
          "output_type": "display_data",
          "data": {
            "text/plain": [
              "<Figure size 864x288 with 10 Axes>"
            ],
            "image/png": "[encoded data removed]"
          },
          "metadata": {}
        }
      ]
    },
    {
      "cell_type": "markdown",
      "source": [
        "Итог: обученная сеть правильно предсказала все цифры кроме цифры 6. Предположительно, это произошло из-за области, выделенной красным"
      ],
      "metadata": {
        "id": "RaWcYi0itsb9"
      }
    },
    {
      "cell_type": "code",
      "source": [
        "img_6 = get_image('img_6.png')\n",
        "img_6 = gaussian_filter1d(np.array(img_6), sigma=1)\n",
        "plt.imshow(img_6, cmap='gray')\n",
        "ax = plt.gca()\n",
        "rect = patches.Rectangle((5,15),\n",
        "                 6,\n",
        "                 6,\n",
        "                 linewidth=2,\n",
        "                 edgecolor='red',\n",
        "                 fill = False)\n",
        "ax.add_patch(rect)\n",
        "plt.show()"
      ],
      "metadata": {
        "colab": {
          "base_uri": "https://localhost:8080/",
          "height": 265
        },
        "id": "qzg7uuWDvCFs",
        "outputId": "435248ea-6f26-4115-d077-d87ee88a4c2b"
      },
      "execution_count": null,
      "outputs": [
        {
          "output_type": "display_data",
          "data": {
            "text/plain": [
              "<Figure size 432x288 with 1 Axes>"
            ],
            "image/png": "[encoded data removed]"
          },
          "metadata": {
            "needs_background": "light"
          }
        }
      ]
    },
    {
      "cell_type": "markdown",
      "source": [
        "Также стоит отметить, что данная сеть, написанная с помощью PyTorch лучше, чем сеть, написанная с помощью Keras в прошлой работе. Для сранвнения, `acc_torch = 0.98, acc_ker = 0.94`"
      ],
      "metadata": {
        "id": "Gh9azPXAwbma"
      }
    }
  ]
}