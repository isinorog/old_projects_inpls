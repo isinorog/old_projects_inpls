{
  "cells": [
    {
      "cell_type": "markdown",
      "source": [
        "Задание:\n",
        "\n",
        "**1 Часть** - Попробуйте улучшить результаты нейронной сети LSTM  из практического занятия поэкспериментировав с параметрами нейронной сети (Размер словаря, длина отзыва, размер слоя эмбеддинг)\n",
        "\n",
        "**2 Часть** - Возьмите данные отзывов о фильмах сайта Кинопоиск ру из соревнования https://www.kaggle.com/mikhailklemin/kinopoisks-movies-reviews и попробуйте обучить рекурентную нейронную сеть, которая будет предсказывать sentiment по аналогии с практическим занятием по LSTM"
      ],
      "metadata": {
        "id": "kdjeXhbKdqol"
      }
    },
    {
      "cell_type": "markdown",
      "source": [
        "## **1 Часть задания**"
      ],
      "metadata": {
        "id": "GEff2EL9Fmkz"
      }
    },
    {
      "cell_type": "code",
      "source": [
        "import tensorflow as tf\n",
        "import numpy as np\n",
        "from tensorflow.keras.preprocessing import sequence\n",
        "from numpy import array\n",
        "import logging\n",
        "logging.getLogger('tensorflow').disabled = True\n",
        "import pandas as pd\n",
        "import csv"
      ],
      "metadata": {
        "id": "2I6sCeeYIJoQ"
      },
      "execution_count": null,
      "outputs": []
    },
    {
      "cell_type": "markdown",
      "source": [
        "### При словаре 10000, длине отзыва 250 и размере слоя эмбеддинга равном 8"
      ],
      "metadata": {
        "id": "5sPeJjYVH6sh"
      }
    },
    {
      "cell_type": "markdown",
      "source": [
        "Импорт всех необходимых библиотек и подготовка данных, исходя из копии блокнота практики. Поэтому комментрии я убрала из кода"
      ],
      "metadata": {
        "id": "Z3H01MhoF3xQ"
      }
    },
    {
      "cell_type": "code",
      "execution_count": null,
      "metadata": {
        "id": "2e3txwbh3q76"
      },
      "outputs": [],
      "source": [
        "vocab_size = 10000\n",
        "\n",
        "(x_train, y_train), (x_test, y_test) = tf.keras.datasets.imdb.load_data(num_words=vocab_size)\n",
        "class_names = [\"Negative\", \"Positive\"]"
      ]
    },
    {
      "cell_type": "markdown",
      "metadata": {
        "id": "hdyHL8FF0JJy"
      },
      "source": [
        "**Создать карту для преобразования набора данных IMDB в удобочитаемые обзоры**"
      ]
    },
    {
      "cell_type": "code",
      "execution_count": null,
      "metadata": {
        "colab": {
          "base_uri": "https://localhost:8080/"
        },
        "id": "E05AweFu0Imt",
        "outputId": "fa9afacf-5c3e-4129-ad05-43bb3f635ef6"
      },
      "outputs": [
        {
          "output_type": "stream",
          "name": "stdout",
          "text": [
            "Downloading data from https://storage.googleapis.com/tensorflow/tf-keras-datasets/imdb_word_index.json\n",
            "1646592/1641221 [==============================] - 0s 0us/step\n",
            "1654784/1641221 [==============================] - 0s 0us/step\n"
          ]
        }
      ],
      "source": [
        "word_index = tf.keras.datasets.imdb.get_word_index()\n",
        "word_index = {k:(v+3) for k,v in word_index.items()}\n",
        "word_index[\"<PAD>\"] = 0\n",
        "word_index[\"<START>\"] = 1\n",
        "word_index[\"<UNKNOWN>\"] = 2\n",
        "word_index[\"<UNUSED>\"] = 3\n",
        "reverse_word_index = dict([(value, key) for (key, value) in word_index.items()])\n",
        "def decode_review(text):\n",
        "    return ' '.join([reverse_word_index.get(i, '?') for i in text])"
      ]
    },
    {
      "cell_type": "markdown",
      "metadata": {
        "id": "fFXK-g6G81sC"
      },
      "source": [
        "**Data Insight**\n",
        "\n",
        "\n"
      ]
    },
    {
      "cell_type": "code",
      "execution_count": null,
      "metadata": {
        "colab": {
          "base_uri": "https://localhost:8080/"
        },
        "id": "yD1qHVBn81Y_",
        "outputId": "f750f4ce-e84f-49cb-aba3-1a088626d067"
      },
      "outputs": [
        {
          "output_type": "stream",
          "name": "stdout",
          "text": [
            "Maximum review length: 2494\n",
            "Minimum review length: 7\n",
            "Mean review length: 234.75892\n",
            "\n",
            "Machine readable Review\n",
            "  Review Text: [1, 13, 219, 14, 33, 4, 2, 22, 1413, 12, 16, 373, 175, 2711, 1115, 1026, 430, 939, 16, 23, 2444, 25, 43, 697, 89, 12, 16, 170, 8, 130, 262, 19, 32, 4, 665, 7, 4, 2, 322, 5, 4, 1520, 7, 4, 86, 250, 10, 10, 4, 249, 173, 16, 4, 3891, 6, 19, 4, 167, 564, 5, 564, 1325, 36, 805, 8, 216, 638, 17, 2, 21, 25, 100, 376, 507, 4, 2110, 15, 79, 125, 23, 567, 13, 2134, 233, 36, 4852, 2, 5, 81, 1672, 10, 10, 92, 437, 129, 58, 13, 69, 8, 401, 61, 1432, 39, 1286, 46, 7, 12]\n",
            "  Review Sentiment: 0\n",
            "\n",
            "Human Readable Review\n",
            "  Review Text: <START> i saw this at the <UNKNOWN> film festival it was awful every clichéd violent rich boy fantasy was on display you just knew how it was going to end especially with all the shots of the <UNKNOWN> wife and the rape of the first girl br br the worst part was the q a with the director writer and writer producer they tried to come across as <UNKNOWN> but you could tell they're the types that get off on violence i bet anything they frequent <UNKNOWN> and do drugs br br don't waste your time i had to keep my boyfriend from walking out of it\n",
            "  Review Sentiment: Negative\n"
          ]
        }
      ],
      "source": [
        "allreviews = np.concatenate((x_train, x_test), axis=0)\n",
        "print(\"Maximum review length: {}\".format(len(max((allreviews), key=len))))\n",
        "print(\"Minimum review length: {}\".format(len(min((allreviews), key=len))))\n",
        "result = [len(x) for x in allreviews]\n",
        "print(\"Mean review length: {}\".format(np.mean(result)))\n",
        "print(\"\")\n",
        "print(\"Machine readable Review\")\n",
        "print(\"  Review Text: \" + str(x_train[60]))\n",
        "print(\"  Review Sentiment: \" + str(y_train[60]))\n",
        "print(\"\")\n",
        "print(\"Human Readable Review\")\n",
        "print(\"  Review Text: \" + decode_review(x_train[60]))\n",
        "print(\"  Review Sentiment: \" + class_names[y_train[60]])"
      ]
    },
    {
      "cell_type": "markdown",
      "metadata": {
        "id": "mF-Votm66zD5"
      },
      "source": [
        "**Pre-processing Data**"
      ]
    },
    {
      "cell_type": "code",
      "execution_count": null,
      "metadata": {
        "colab": {
          "base_uri": "https://localhost:8080/"
        },
        "id": "uNtJTLJA6gaT",
        "outputId": "2170b86d-eb94-4faa-a428-d268e0336eba"
      },
      "outputs": [
        {
          "output_type": "stream",
          "name": "stdout",
          "text": [
            "Shape Training Review Data: (25000, 250)\n",
            "Shape Training Class Data: (25000,)\n",
            "Shape Test Review Data: (25000, 250)\n",
            "Shape Test Class Data: (25000,)\n",
            "\n"
          ]
        }
      ],
      "source": [
        "review_length = 250\n",
        "\n",
        "x_train = sequence.pad_sequences(x_train, maxlen = review_length,padding='post')\n",
        "x_test = sequence.pad_sequences(x_test, maxlen = review_length,padding='post')\n",
        "print(\"Shape Training Review Data: \" + str(x_train.shape))\n",
        "print(\"Shape Training Class Data: \" + str(y_train.shape))\n",
        "print(\"Shape Test Review Data: \" + str(x_test.shape))\n",
        "print(\"Shape Test Class Data: \" + str(y_test.shape))\n",
        "print(\"\")"
      ]
    },
    {
      "cell_type": "markdown",
      "metadata": {
        "id": "BfOdV_VCCFee"
      },
      "source": [
        "**Create and build LSTM Recurrent Neural Network**"
      ]
    },
    {
      "cell_type": "code",
      "source": [
        "tf.keras.layers.Bidirectional(tf.keras.layers.LSTM(\n",
        "        units=32 # 32 LSTM units in this layer\n",
        "    ))"
      ],
      "metadata": {
        "id": "qaaJbp5P531O",
        "colab": {
          "base_uri": "https://localhost:8080/"
        },
        "outputId": "011139e7-424b-497e-9884-5679e7f9bc30"
      },
      "execution_count": null,
      "outputs": [
        {
          "output_type": "execute_result",
          "data": {
            "text/plain": [
              "<keras.layers.wrappers.Bidirectional at 0x7f22dfcaae10>"
            ]
          },
          "metadata": {},
          "execution_count": 5
        }
      ]
    },
    {
      "cell_type": "code",
      "execution_count": null,
      "metadata": {
        "colab": {
          "base_uri": "https://localhost:8080/"
        },
        "id": "8nmO8M4aCKwT",
        "outputId": "f8b75891-2145-4f68-cd78-ba1e447b1c00"
      },
      "outputs": [
        {
          "output_type": "stream",
          "name": "stdout",
          "text": [
            "Model: \"sequential_2\"\n",
            "_________________________________________________________________\n",
            " Layer (type)                Output Shape              Param #   \n",
            "=================================================================\n",
            " embedding_2 (Embedding)     (None, 250, 32)           320000    \n",
            "                                                                 \n",
            " dropout_4 (Dropout)         (None, 250, 32)           0         \n",
            "                                                                 \n",
            " lstm_3 (LSTM)               (None, 32)                8320      \n",
            "                                                                 \n",
            " dropout_5 (Dropout)         (None, 32)                0         \n",
            "                                                                 \n",
            " dense_2 (Dense)             (None, 1)                 33        \n",
            "                                                                 \n",
            "=================================================================\n",
            "Total params: 328,353\n",
            "Trainable params: 328,353\n",
            "Non-trainable params: 0\n",
            "_________________________________________________________________\n"
          ]
        }
      ],
      "source": [
        "model = tf.keras.models.Sequential()\n",
        "size_embedding = 32\n",
        "model.add(\n",
        "    tf.keras.layers.Embedding(\n",
        "        input_dim = vocab_size, # The size of our vocabulary\n",
        "        output_dim = size_embedding, # Dimensions to which each words shall be mapped\n",
        "        input_length = review_length # Length of input sequences\n",
        "    )\n",
        ")\n",
        "model.add(\n",
        "    tf.keras.layers.Dropout(\n",
        "        rate=0.2 # Случайным образом отключается 25% нейронов\n",
        "    )\n",
        ")\n",
        "model.add(\n",
        "    tf.keras.layers.LSTM(\n",
        "        units=32 # 32 LSTM units in this layer\n",
        "    )\n",
        ")\n",
        "model.add(\n",
        "    tf.keras.layers.Dropout(\n",
        "        rate=0.2\n",
        "    )\n",
        ")\n",
        "model.add(\n",
        "    tf.keras.layers.Dense(\n",
        "        units=1,\n",
        "        activation='sigmoid'\n",
        "    )\n",
        ")\n",
        "model.compile(\n",
        "    loss=tf.keras.losses.binary_crossentropy, # loss function\n",
        "    optimizer=tf.keras.optimizers.Adam(), # optimiser function\n",
        "    metrics=['accuracy']) # reporting metric\n",
        "model.summary()"
      ]
    },
    {
      "cell_type": "markdown",
      "metadata": {
        "id": "5KdfAoHsGwzo"
      },
      "source": [
        "**Train the LSTM**"
      ]
    },
    {
      "cell_type": "code",
      "execution_count": null,
      "metadata": {
        "colab": {
          "base_uri": "https://localhost:8080/"
        },
        "id": "rEN1vV4nG1V3",
        "outputId": "a15825e3-4d8d-4fe4-d919-515d8c91ccb3"
      },
      "outputs": [
        {
          "output_type": "stream",
          "name": "stdout",
          "text": [
            "Epoch 1/6\n",
            "157/157 [==============================] - 4s 17ms/step - loss: 0.6946 - accuracy: 0.5362 - val_loss: 0.6906 - val_accuracy: 0.5208\n",
            "Epoch 2/6\n",
            "157/157 [==============================] - 2s 14ms/step - loss: 0.6747 - accuracy: 0.5739 - val_loss: 0.5486 - val_accuracy: 0.7766\n",
            "Epoch 3/6\n",
            "157/157 [==============================] - 2s 14ms/step - loss: 0.6170 - accuracy: 0.6806 - val_loss: 0.6752 - val_accuracy: 0.5402\n",
            "Epoch 4/6\n",
            "157/157 [==============================] - 2s 13ms/step - loss: 0.6609 - accuracy: 0.5638 - val_loss: 0.6594 - val_accuracy: 0.5724\n",
            "Epoch 5/6\n",
            "157/157 [==============================] - 2s 13ms/step - loss: 0.5197 - accuracy: 0.7369 - val_loss: 0.4618 - val_accuracy: 0.8258\n",
            "Epoch 6/6\n",
            "157/157 [==============================] - 2s 13ms/step - loss: 0.4040 - accuracy: 0.8555 - val_loss: 0.4834 - val_accuracy: 0.8086\n"
          ]
        }
      ],
      "source": [
        "history = model.fit(\n",
        "    x_train, y_train,\n",
        "    batch_size=128,\n",
        "    epochs=6,\n",
        "    validation_split=0.2,\n",
        "    verbose=1\n",
        ")"
      ]
    },
    {
      "cell_type": "markdown",
      "metadata": {
        "id": "rpCS2-jFH1KY"
      },
      "source": [
        "**Evaluate model with test data and view results**"
      ]
    },
    {
      "cell_type": "code",
      "source": [
        "loss, acc = model.evaluate(x_test,y_test)"
      ],
      "metadata": {
        "id": "6RkLnq3x2loA",
        "outputId": "7d0fcff6-8df4-4f07-cc0a-5645fd8b640b",
        "colab": {
          "base_uri": "https://localhost:8080/"
        }
      },
      "execution_count": null,
      "outputs": [
        {
          "output_type": "stream",
          "name": "stdout",
          "text": [
            "782/782 [==============================] - 5s 6ms/step - loss: 0.4884 - accuracy: 0.8066\n"
          ]
        }
      ]
    },
    {
      "cell_type": "markdown",
      "source": [
        "Результат на тестовой выборке `accuracy = 0.8321`"
      ],
      "metadata": {
        "id": "j2r7PHhmIaYy"
      }
    },
    {
      "cell_type": "code",
      "source": [
        "with open('results.csv', 'w', newline='') as csvfile:\n",
        "    spamwriter = csv.writer(csvfile, delimiter=',',\n",
        "                            quotechar='|', quoting=csv.QUOTE_MINIMAL)\n",
        "    spamwriter.writerow([vocab_size, review_length, size_embedding, loss, acc])"
      ],
      "metadata": {
        "id": "1DdrYXA9MxPs"
      },
      "execution_count": null,
      "outputs": []
    },
    {
      "cell_type": "markdown",
      "source": [
        "### Пример кода поиска лучших параметров размера словаря, длины отзыва и размера слоя эмбеддинга"
      ],
      "metadata": {
        "id": "hVfygH1MIkca"
      }
    },
    {
      "cell_type": "code",
      "source": [
        "vocab_size = 10000\n",
        "\n",
        "(x_train, y_train), (x_test, y_test) = tf.keras.datasets.imdb.load_data(num_words=vocab_size)\n",
        "class_names = [\"Negative\", \"Positive\"]"
      ],
      "metadata": {
        "id": "U5r0KgkLIvKO"
      },
      "execution_count": null,
      "outputs": []
    },
    {
      "cell_type": "markdown",
      "source": [
        "Средний размер отзыва, на практике было показано, составляет ~230 символов, поэтому вариация была от 200 до 250 символов."
      ],
      "metadata": {
        "id": "RibPgqU7a9XG"
      }
    },
    {
      "cell_type": "code",
      "source": [
        "review_length = 200\n",
        "\n",
        "x_train = sequence.pad_sequences(x_train, maxlen = review_length,padding='post')\n",
        "x_test = sequence.pad_sequences(x_test, maxlen = review_length,padding='post')\n",
        "print(\"Shape Training Review Data: \" + str(x_train.shape))\n",
        "print(\"Shape Training Class Data: \" + str(y_train.shape))\n",
        "print(\"Shape Test Review Data: \" + str(x_test.shape))\n",
        "print(\"Shape Test Class Data: \" + str(y_test.shape))"
      ],
      "metadata": {
        "colab": {
          "base_uri": "https://localhost:8080/"
        },
        "id": "ZDdr33hWJMwR",
        "outputId": "93115cfe-8368-404e-eb6d-60268cbb30b7"
      },
      "execution_count": null,
      "outputs": [
        {
          "output_type": "stream",
          "name": "stdout",
          "text": [
            "Shape Training Review Data: (25000, 200)\n",
            "Shape Training Class Data: (25000,)\n",
            "Shape Test Review Data: (25000, 200)\n",
            "Shape Test Class Data: (25000,)\n"
          ]
        }
      ]
    },
    {
      "cell_type": "code",
      "source": [
        "tf.keras.layers.Bidirectional(tf.keras.layers.LSTM(\n",
        "        units=32 # 32 LSTM units in this layer\n",
        "    ))"
      ],
      "metadata": {
        "colab": {
          "base_uri": "https://localhost:8080/"
        },
        "id": "m62y63hcJWlQ",
        "outputId": "a2a2ee18-92cb-44be-cbe6-5d6ce558e0e6"
      },
      "execution_count": null,
      "outputs": [
        {
          "output_type": "execute_result",
          "data": {
            "text/plain": [
              "<keras.layers.wrappers.Bidirectional at 0x7f8b4a1e2b50>"
            ]
          },
          "metadata": {},
          "execution_count": 117
        }
      ]
    },
    {
      "cell_type": "code",
      "source": [
        "model = tf.keras.models.Sequential()\n",
        "size_embedding = 64\n",
        "model.add(\n",
        "    tf.keras.layers.Embedding(\n",
        "        input_dim = vocab_size,\n",
        "        output_dim = size_embedding,\n",
        "        input_length = review_length\n",
        ")\n",
        "model.add(\n",
        "    tf.keras.layers.Dropout(\n",
        "        rate=0.2\n",
        "    )\n",
        ")\n",
        "model.add(\n",
        "    tf.keras.layers.LSTM(\n",
        "        units=32\n",
        "    )\n",
        ")\n",
        "model.add(\n",
        "    tf.keras.layers.Dropout(\n",
        "        rate=0.2\n",
        "    )\n",
        ")\n",
        "model.add(\n",
        "    tf.keras.layers.Dense(\n",
        "        units=1,\n",
        "        activation='sigmoid'\n",
        "    )\n",
        ")\n",
        "model.compile(\n",
        "    loss=tf.keras.losses.binary_crossentropy,\n",
        "    optimizer=tf.keras.optimizers.Adam(),\n",
        "    metrics=['accuracy'])\n",
        "model.summary()"
      ],
      "metadata": {
        "colab": {
          "base_uri": "https://localhost:8080/"
        },
        "id": "TXI93M3iJbng",
        "outputId": "a18a09fe-e846-4128-d06f-7b26f0fed896"
      },
      "execution_count": null,
      "outputs": [
        {
          "output_type": "stream",
          "name": "stdout",
          "text": [
            "Model: \"sequential_22\"\n",
            "_________________________________________________________________\n",
            " Layer (type)                Output Shape              Param #   \n",
            "=================================================================\n",
            " embedding_22 (Embedding)    (None, 200, 64)           640000    \n",
            "                                                                 \n",
            " dropout_44 (Dropout)        (None, 200, 64)           0         \n",
            "                                                                 \n",
            " lstm_25 (LSTM)              (None, 32)                12416     \n",
            "                                                                 \n",
            " dropout_45 (Dropout)        (None, 32)                0         \n",
            "                                                                 \n",
            " dense_22 (Dense)            (None, 1)                 33        \n",
            "                                                                 \n",
            "=================================================================\n",
            "Total params: 652,449\n",
            "Trainable params: 652,449\n",
            "Non-trainable params: 0\n",
            "_________________________________________________________________\n"
          ]
        }
      ]
    },
    {
      "cell_type": "code",
      "source": [
        "history = model.fit(\n",
        "    x_train, y_train,\n",
        "    batch_size=128,\n",
        "    epochs=15,\n",
        "    validation_split=0.2,\n",
        "    verbose=1\n",
        ")"
      ],
      "metadata": {
        "colab": {
          "base_uri": "https://localhost:8080/"
        },
        "id": "orf9a33QJeKk",
        "outputId": "48442adb-b8b7-4aaf-d189-d5d3f4908f81"
      },
      "execution_count": null,
      "outputs": [
        {
          "output_type": "stream",
          "name": "stdout",
          "text": [
            "Epoch 1/15\n",
            "157/157 [==============================] - 4s 15ms/step - loss: 0.5817 - accuracy: 0.6611 - val_loss: 0.3621 - val_accuracy: 0.8524\n",
            "Epoch 2/15\n",
            "157/157 [==============================] - 2s 12ms/step - loss: 0.3083 - accuracy: 0.8826 - val_loss: 0.3362 - val_accuracy: 0.8656\n",
            "Epoch 3/15\n",
            "157/157 [==============================] - 2s 12ms/step - loss: 0.2261 - accuracy: 0.9188 - val_loss: 0.3177 - val_accuracy: 0.8562\n",
            "Epoch 4/15\n",
            "157/157 [==============================] - 2s 13ms/step - loss: 0.1846 - accuracy: 0.9384 - val_loss: 0.3168 - val_accuracy: 0.8730\n",
            "Epoch 5/15\n",
            "157/157 [==============================] - 2s 13ms/step - loss: 0.1484 - accuracy: 0.9543 - val_loss: 0.3954 - val_accuracy: 0.8598\n",
            "Epoch 6/15\n",
            "157/157 [==============================] - 2s 13ms/step - loss: 0.1186 - accuracy: 0.9641 - val_loss: 0.3740 - val_accuracy: 0.8712\n",
            "Epoch 7/15\n",
            "157/157 [==============================] - 2s 12ms/step - loss: 0.1089 - accuracy: 0.9698 - val_loss: 0.4068 - val_accuracy: 0.8678\n",
            "Epoch 8/15\n",
            "157/157 [==============================] - 2s 12ms/step - loss: 0.0906 - accuracy: 0.9766 - val_loss: 0.4058 - val_accuracy: 0.8680\n",
            "Epoch 9/15\n",
            "157/157 [==============================] - 2s 12ms/step - loss: 0.0796 - accuracy: 0.9799 - val_loss: 0.4755 - val_accuracy: 0.8672\n",
            "Epoch 10/15\n",
            "157/157 [==============================] - 2s 12ms/step - loss: 0.0775 - accuracy: 0.9804 - val_loss: 0.4609 - val_accuracy: 0.8666\n",
            "Epoch 11/15\n",
            "157/157 [==============================] - 2s 12ms/step - loss: 0.0844 - accuracy: 0.9791 - val_loss: 0.4543 - val_accuracy: 0.8666\n",
            "Epoch 12/15\n",
            "157/157 [==============================] - 2s 12ms/step - loss: 0.0668 - accuracy: 0.9840 - val_loss: 0.4783 - val_accuracy: 0.8662\n",
            "Epoch 13/15\n",
            "157/157 [==============================] - 2s 12ms/step - loss: 0.0641 - accuracy: 0.9849 - val_loss: 0.5142 - val_accuracy: 0.8598\n",
            "Epoch 14/15\n",
            "157/157 [==============================] - 2s 12ms/step - loss: 0.0824 - accuracy: 0.9777 - val_loss: 0.4557 - val_accuracy: 0.8426\n",
            "Epoch 15/15\n",
            "157/157 [==============================] - 2s 12ms/step - loss: 0.0732 - accuracy: 0.9815 - val_loss: 0.5023 - val_accuracy: 0.8638\n"
          ]
        }
      ]
    },
    {
      "cell_type": "code",
      "source": [
        "loss, acc = model.evaluate(x_test,y_test)"
      ],
      "metadata": {
        "colab": {
          "base_uri": "https://localhost:8080/"
        },
        "id": "GAHeqD-zJfzl",
        "outputId": "47343165-b609-4f2a-b4ab-afd021a388d1"
      },
      "execution_count": null,
      "outputs": [
        {
          "output_type": "stream",
          "name": "stdout",
          "text": [
            "782/782 [==============================] - 4s 5ms/step - loss: 0.5566 - accuracy: 0.8509\n"
          ]
        }
      ]
    },
    {
      "cell_type": "markdown",
      "source": [
        "Добавляем запись в файл, чтобы потом удобнее было отобразить результаты и не захламлять код"
      ],
      "metadata": {
        "id": "z08bc4KmN5OI"
      }
    },
    {
      "cell_type": "code",
      "source": [
        "with open('results.csv', 'a', newline='') as csvfile:\n",
        "    spamwriter = csv.writer(csvfile, delimiter=',',\n",
        "                            quotechar='|', quoting=csv.QUOTE_MINIMAL)\n",
        "    spamwriter.writerow([vocab_size, review_length, size_embedding, loss, acc])\n",
        "    csvfile.close()"
      ],
      "metadata": {
        "id": "b-HshWt4KEbd"
      },
      "execution_count": null,
      "outputs": []
    },
    {
      "cell_type": "markdown",
      "source": [
        "### **Результат выполнения первой части задания**"
      ],
      "metadata": {
        "id": "hxqQf5CSahQm"
      }
    },
    {
      "cell_type": "markdown",
      "source": [
        "Чтение файла, в котором записаны все результаты работы модели и её изменения"
      ],
      "metadata": {
        "id": "V2L1xewSOBHr"
      }
    },
    {
      "cell_type": "code",
      "source": [
        "results_table = pd.read_csv('results.csv', header=None, names=['Размер словаря', 'Длина отзыва', 'Размер слоя эмбединга', 'Loss', 'Accuracy'])"
      ],
      "metadata": {
        "id": "BJKFOARaLVct"
      },
      "execution_count": null,
      "outputs": []
    },
    {
      "cell_type": "markdown",
      "source": [
        "Для начала, я увеличила количество эпох до 6, т.к. 3 эпохи показали наименьший результат. Также 3 и 9 эксперименты проводились с увеличением units LSTM слоя в 2 раза (64), однако это не дало отличительных результатов.\n",
        "\n",
        "В 10 эксперименте я вернула 3 эпохи вместо 6. Результат стал лучше на несколько тысячных.\n",
        "Помимо тех результатов, что вошли в таблицу, было проведено ещё несколько с размеров слоя эмбединга 128 и разным количеством эпох. Однако результаты были в разы меньше, чем некоторые результаты из таблицы (которые более 0.8), поэтому я не стала вносить их в результирующую таблицу."
      ],
      "metadata": {
        "id": "WdFj7xZXWTb0"
      }
    },
    {
      "cell_type": "code",
      "source": [
        "results_table"
      ],
      "metadata": {
        "colab": {
          "base_uri": "https://localhost:8080/",
          "height": 426
        },
        "id": "seVMktsoL2FX",
        "outputId": "b944c097-cdb9-4744-ce0c-14234a3598d8"
      },
      "execution_count": null,
      "outputs": [
        {
          "output_type": "execute_result",
          "data": {
            "text/plain": [
              "    Размер словаря  Длина отзыва  Размер слоя эмбединга      Loss  Accuracy\n",
              "0            10000           250                     32  0.488362   0.80660\n",
              "1            10500           300                     32  0.550098   0.75128\n",
              "2            20000           250                     32  0.450912   0.82256\n",
              "3            10000           200                     64  0.357148   0.86336\n",
              "4            20000           250                     64  0.674415   0.54376\n",
              "5            15000           250                     64  0.654005   0.60092\n",
              "6            10000           250                     64  0.420365   0.84488\n",
              "7            10000           230                     64  0.596928   0.71352\n",
              "8            10000           230                     32  0.568950   0.73332\n",
              "9            10000           200                     64  0.381491   0.86064\n",
              "10           10000           200                     64  0.344968   0.86836\n",
              "11           10000           200                    128  0.445798   0.82652"
            ],
            "text/html": [
              "\n",
              "  <div id=\"df-a748d3b0-a3e1-46f5-9f39-5339fba993bb\">\n",
              "    <div class=\"colab-df-container\">\n",
              "      <div>\n",
              "<style scoped>\n",
              "    .dataframe tbody tr th:only-of-type {\n",
              "        vertical-align: middle;\n",
              "    }\n",
              "\n",
              "    .dataframe tbody tr th {\n",
              "        vertical-align: top;\n",
              "    }\n",
              "\n",
              "    .dataframe thead th {\n",
              "        text-align: right;\n",
              "    }\n",
              "</style>\n",
              "<table border=\"1\" class=\"dataframe\">\n",
              "  <thead>\n",
              "    <tr style=\"text-align: right;\">\n",
              "      <th></th>\n",
              "      <th>Размер словаря</th>\n",
              "      <th>Длина отзыва</th>\n",
              "      <th>Размер слоя эмбединга</th>\n",
              "      <th>Loss</th>\n",
              "      <th>Accuracy</th>\n",
              "    </tr>\n",
              "  </thead>\n",
              "  <tbody>\n",
              "    <tr>\n",
              "      <th>0</th>\n",
              "      <td>10000</td>\n",
              "      <td>250</td>\n",
              "      <td>32</td>\n",
              "      <td>0.488362</td>\n",
              "      <td>0.80660</td>\n",
              "    </tr>\n",
              "    <tr>\n",
              "      <th>1</th>\n",
              "      <td>10500</td>\n",
              "      <td>300</td>\n",
              "      <td>32</td>\n",
              "      <td>0.550098</td>\n",
              "      <td>0.75128</td>\n",
              "    </tr>\n",
              "    <tr>\n",
              "      <th>2</th>\n",
              "      <td>20000</td>\n",
              "      <td>250</td>\n",
              "      <td>32</td>\n",
              "      <td>0.450912</td>\n",
              "      <td>0.82256</td>\n",
              "    </tr>\n",
              "    <tr>\n",
              "      <th>3</th>\n",
              "      <td>10000</td>\n",
              "      <td>200</td>\n",
              "      <td>64</td>\n",
              "      <td>0.357148</td>\n",
              "      <td>0.86336</td>\n",
              "    </tr>\n",
              "    <tr>\n",
              "      <th>4</th>\n",
              "      <td>20000</td>\n",
              "      <td>250</td>\n",
              "      <td>64</td>\n",
              "      <td>0.674415</td>\n",
              "      <td>0.54376</td>\n",
              "    </tr>\n",
              "    <tr>\n",
              "      <th>5</th>\n",
              "      <td>15000</td>\n",
              "      <td>250</td>\n",
              "      <td>64</td>\n",
              "      <td>0.654005</td>\n",
              "      <td>0.60092</td>\n",
              "    </tr>\n",
              "    <tr>\n",
              "      <th>6</th>\n",
              "      <td>10000</td>\n",
              "      <td>250</td>\n",
              "      <td>64</td>\n",
              "      <td>0.420365</td>\n",
              "      <td>0.84488</td>\n",
              "    </tr>\n",
              "    <tr>\n",
              "      <th>7</th>\n",
              "      <td>10000</td>\n",
              "      <td>230</td>\n",
              "      <td>64</td>\n",
              "      <td>0.596928</td>\n",
              "      <td>0.71352</td>\n",
              "    </tr>\n",
              "    <tr>\n",
              "      <th>8</th>\n",
              "      <td>10000</td>\n",
              "      <td>230</td>\n",
              "      <td>32</td>\n",
              "      <td>0.568950</td>\n",
              "      <td>0.73332</td>\n",
              "    </tr>\n",
              "    <tr>\n",
              "      <th>9</th>\n",
              "      <td>10000</td>\n",
              "      <td>200</td>\n",
              "      <td>64</td>\n",
              "      <td>0.381491</td>\n",
              "      <td>0.86064</td>\n",
              "    </tr>\n",
              "    <tr>\n",
              "      <th>10</th>\n",
              "      <td>10000</td>\n",
              "      <td>200</td>\n",
              "      <td>64</td>\n",
              "      <td>0.344968</td>\n",
              "      <td>0.86836</td>\n",
              "    </tr>\n",
              "    <tr>\n",
              "      <th>11</th>\n",
              "      <td>10000</td>\n",
              "      <td>200</td>\n",
              "      <td>128</td>\n",
              "      <td>0.445798</td>\n",
              "      <td>0.82652</td>\n",
              "    </tr>\n",
              "  </tbody>\n",
              "</table>\n",
              "</div>\n",
              "      <button class=\"colab-df-convert\" onclick=\"convertToInteractive('df-a748d3b0-a3e1-46f5-9f39-5339fba993bb')\"\n",
              "              title=\"Convert this dataframe to an interactive table.\"\n",
              "              style=\"display:none;\">\n",
              "        \n",
              "  <svg xmlns=\"http://www.w3.org/2000/svg\" height=\"24px\"viewBox=\"0 0 24 24\"\n",
              "       width=\"24px\">\n",
              "    <path d=\"M0 0h24v24H0V0z\" fill=\"none\"/>\n",
              "    <path d=\"M18.56 5.44l.94 2.06.94-2.06 2.06-.94-2.06-.94-.94-2.06-.94 2.06-2.06.94zm-11 1L8.5 8.5l.94-2.06 2.06-.94-2.06-.94L8.5 2.5l-.94 2.06-2.06.94zm10 10l.94 2.06.94-2.06 2.06-.94-2.06-.94-.94-2.06-.94 2.06-2.06.94z\"/><path d=\"M17.41 7.96l-1.37-1.37c-.4-.4-.92-.59-1.43-.59-.52 0-1.04.2-1.43.59L10.3 9.45l-7.72 7.72c-.78.78-.78 2.05 0 2.83L4 21.41c.39.39.9.59 1.41.59.51 0 1.02-.2 1.41-.59l7.78-7.78 2.81-2.81c.8-.78.8-2.07 0-2.86zM5.41 20L4 18.59l7.72-7.72 1.47 1.35L5.41 20z\"/>\n",
              "  </svg>\n",
              "      </button>\n",
              "      \n",
              "  <style>\n",
              "    .colab-df-container {\n",
              "      display:flex;\n",
              "      flex-wrap:wrap;\n",
              "      gap: 12px;\n",
              "    }\n",
              "\n",
              "    .colab-df-convert {\n",
              "      background-color: #E8F0FE;\n",
              "      border: none;\n",
              "      border-radius: 50%;\n",
              "      cursor: pointer;\n",
              "      display: none;\n",
              "      fill: #1967D2;\n",
              "      height: 32px;\n",
              "      padding: 0 0 0 0;\n",
              "      width: 32px;\n",
              "    }\n",
              "\n",
              "    .colab-df-convert:hover {\n",
              "      background-color: #E2EBFA;\n",
              "      box-shadow: 0px 1px 2px rgba(60, 64, 67, 0.3), 0px 1px 3px 1px rgba(60, 64, 67, 0.15);\n",
              "      fill: #174EA6;\n",
              "    }\n",
              "\n",
              "    [theme=dark] .colab-df-convert {\n",
              "      background-color: #3B4455;\n",
              "      fill: #D2E3FC;\n",
              "    }\n",
              "\n",
              "    [theme=dark] .colab-df-convert:hover {\n",
              "      background-color: #434B5C;\n",
              "      box-shadow: 0px 1px 3px 1px rgba(0, 0, 0, 0.15);\n",
              "      filter: drop-shadow(0px 1px 2px rgba(0, 0, 0, 0.3));\n",
              "      fill: #FFFFFF;\n",
              "    }\n",
              "  </style>\n",
              "\n",
              "      <script>\n",
              "        const buttonEl =\n",
              "          document.querySelector('#df-a748d3b0-a3e1-46f5-9f39-5339fba993bb button.colab-df-convert');\n",
              "        buttonEl.style.display =\n",
              "          google.colab.kernel.accessAllowed ? 'block' : 'none';\n",
              "\n",
              "        async function convertToInteractive(key) {\n",
              "          const element = document.querySelector('#df-a748d3b0-a3e1-46f5-9f39-5339fba993bb');\n",
              "          const dataTable =\n",
              "            await google.colab.kernel.invokeFunction('convertToInteractive',\n",
              "                                                     [key], {});\n",
              "          if (!dataTable) return;\n",
              "\n",
              "          const docLinkHtml = 'Like what you see? Visit the ' +\n",
              "            '<a target=\"_blank\" href=https://colab.research.google.com/notebooks/data_table.ipynb>data table notebook</a>'\n",
              "            + ' to learn more about interactive tables.';\n",
              "          element.innerHTML = '';\n",
              "          dataTable['output_type'] = 'display_data';\n",
              "          await google.colab.output.renderOutput(dataTable, element);\n",
              "          const docLink = document.createElement('div');\n",
              "          docLink.innerHTML = docLinkHtml;\n",
              "          element.appendChild(docLink);\n",
              "        }\n",
              "      </script>\n",
              "    </div>\n",
              "  </div>\n",
              "  "
            ]
          },
          "metadata": {},
          "execution_count": 140
        }
      ]
    },
    {
      "cell_type": "markdown",
      "source": [
        "Таким образом, у меня получилось поднять точность модели только до` 0.868` при размере словаря `10000`, длине отзыва `200` и размере слоя эмбединга `64`"
      ],
      "metadata": {
        "id": "DNpO-QKAabgB"
      }
    },
    {
      "cell_type": "code",
      "source": [
        "results_table.iloc[results_table['Accuracy'].idxmax()]"
      ],
      "metadata": {
        "colab": {
          "base_uri": "https://localhost:8080/"
        },
        "id": "9LouXvPSaS_L",
        "outputId": "bf159aa2-9e8a-4c51-93a8-95f75164508e"
      },
      "execution_count": null,
      "outputs": [
        {
          "output_type": "execute_result",
          "data": {
            "text/plain": [
              "Размер словаря           10000.000000\n",
              "Длина отзыва               200.000000\n",
              "Размер слоя эмбединга       64.000000\n",
              "Loss                         0.344968\n",
              "Accuracy                     0.868360\n",
              "Name: 10, dtype: float64"
            ]
          },
          "metadata": {},
          "execution_count": 173
        }
      ]
    },
    {
      "cell_type": "markdown",
      "source": [
        "## **2 Часть задания**"
      ],
      "metadata": {
        "id": "O4M0IOENdjsW"
      }
    },
    {
      "cell_type": "markdown",
      "source": [
        "Импорт всех необходимых библиотек"
      ],
      "metadata": {
        "id": "3UAIcOKhZzxc"
      }
    },
    {
      "cell_type": "code",
      "source": [
        "import nltk\n",
        "import re\n",
        "nltk.download(\"stopwords\")\n",
        "nltk.download('punkt')\n",
        "nltk.download('wordnet')\n",
        "nltk.download('omw-1.4')\n",
        "from nltk.corpus import stopwords\n",
        "from nltk import word_tokenize\n",
        "from nltk.stem import WordNetLemmatizer\n",
        "from sklearn.model_selection import train_test_split\n",
        "from tensorflow.keras.preprocessing.text import Tokenizer"
      ],
      "metadata": {
        "id": "6j469tOPKhX_"
      },
      "execution_count": null,
      "outputs": []
    },
    {
      "cell_type": "markdown",
      "source": [
        "### **Загрузка датасета и его просмотр**"
      ],
      "metadata": {
        "id": "jRT4Saq8ZqEi"
      }
    },
    {
      "cell_type": "code",
      "source": [
        "from google.colab import drive\n",
        "drive.mount('/content/drive')"
      ],
      "metadata": {
        "colab": {
          "base_uri": "https://localhost:8080/"
        },
        "id": "RMTMlCMmh7L0",
        "outputId": "74f2a961-a54a-4863-bc54-851f65165ed3"
      },
      "execution_count": null,
      "outputs": [
        {
          "output_type": "stream",
          "name": "stdout",
          "text": [
            "Mounted at /content/drive\n"
          ]
        }
      ]
    },
    {
      "cell_type": "markdown",
      "source": [
        "Датасет благодарственно заимствован из общего чата у добрейшего человека, который смог поделиться ей 🙏"
      ],
      "metadata": {
        "id": "ZSYa_dXjimhX"
      }
    },
    {
      "cell_type": "code",
      "source": [
        "from pandas.io.parquet import read_parquet\n",
        "df = pd.read_parquet('/content/drive/MyDrive/kinopoisk_dataset.parquet')"
      ],
      "metadata": {
        "id": "SMu-zgDNiKdf"
      },
      "execution_count": null,
      "outputs": []
    },
    {
      "cell_type": "code",
      "source": [
        "df.head()"
      ],
      "metadata": {
        "colab": {
          "base_uri": "https://localhost:8080/",
          "height": 206
        },
        "id": "DWo8OfSUieOe",
        "outputId": "535c1db7-a23b-4c1b-f7c4-4ace4ec9b086"
      },
      "execution_count": null,
      "outputs": [
        {
          "output_type": "execute_result",
          "data": {
            "text/plain": [
              "                                              review sentiment\n",
              "0  Нередко, мы представляем себя на месте главных...       neg\n",
              "1  Редкий случай прекрасной идеи, требующей разви...       neg\n",
              "2  Все мы слышали про этот фильм, особенно после ...       neu\n",
              "3  Как говорят критики, общей чертой фильмов Финч...       neg\n",
              "4  Я бы не хотел стричь всех скандинавов под одну...       pos"
            ],
            "text/html": [
              "\n",
              "  <div id=\"df-96a1a16f-5a35-4d5d-97b2-fc83c2a49be4\">\n",
              "    <div class=\"colab-df-container\">\n",
              "      <div>\n",
              "<style scoped>\n",
              "    .dataframe tbody tr th:only-of-type {\n",
              "        vertical-align: middle;\n",
              "    }\n",
              "\n",
              "    .dataframe tbody tr th {\n",
              "        vertical-align: top;\n",
              "    }\n",
              "\n",
              "    .dataframe thead th {\n",
              "        text-align: right;\n",
              "    }\n",
              "</style>\n",
              "<table border=\"1\" class=\"dataframe\">\n",
              "  <thead>\n",
              "    <tr style=\"text-align: right;\">\n",
              "      <th></th>\n",
              "      <th>review</th>\n",
              "      <th>sentiment</th>\n",
              "    </tr>\n",
              "  </thead>\n",
              "  <tbody>\n",
              "    <tr>\n",
              "      <th>0</th>\n",
              "      <td>Нередко, мы представляем себя на месте главных...</td>\n",
              "      <td>neg</td>\n",
              "    </tr>\n",
              "    <tr>\n",
              "      <th>1</th>\n",
              "      <td>Редкий случай прекрасной идеи, требующей разви...</td>\n",
              "      <td>neg</td>\n",
              "    </tr>\n",
              "    <tr>\n",
              "      <th>2</th>\n",
              "      <td>Все мы слышали про этот фильм, особенно после ...</td>\n",
              "      <td>neu</td>\n",
              "    </tr>\n",
              "    <tr>\n",
              "      <th>3</th>\n",
              "      <td>Как говорят критики, общей чертой фильмов Финч...</td>\n",
              "      <td>neg</td>\n",
              "    </tr>\n",
              "    <tr>\n",
              "      <th>4</th>\n",
              "      <td>Я бы не хотел стричь всех скандинавов под одну...</td>\n",
              "      <td>pos</td>\n",
              "    </tr>\n",
              "  </tbody>\n",
              "</table>\n",
              "</div>\n",
              "      <button class=\"colab-df-convert\" onclick=\"convertToInteractive('df-96a1a16f-5a35-4d5d-97b2-fc83c2a49be4')\"\n",
              "              title=\"Convert this dataframe to an interactive table.\"\n",
              "              style=\"display:none;\">\n",
              "        \n",
              "  <svg xmlns=\"http://www.w3.org/2000/svg\" height=\"24px\"viewBox=\"0 0 24 24\"\n",
              "       width=\"24px\">\n",
              "    <path d=\"M0 0h24v24H0V0z\" fill=\"none\"/>\n",
              "    <path d=\"M18.56 5.44l.94 2.06.94-2.06 2.06-.94-2.06-.94-.94-2.06-.94 2.06-2.06.94zm-11 1L8.5 8.5l.94-2.06 2.06-.94-2.06-.94L8.5 2.5l-.94 2.06-2.06.94zm10 10l.94 2.06.94-2.06 2.06-.94-2.06-.94-.94-2.06-.94 2.06-2.06.94z\"/><path d=\"M17.41 7.96l-1.37-1.37c-.4-.4-.92-.59-1.43-.59-.52 0-1.04.2-1.43.59L10.3 9.45l-7.72 7.72c-.78.78-.78 2.05 0 2.83L4 21.41c.39.39.9.59 1.41.59.51 0 1.02-.2 1.41-.59l7.78-7.78 2.81-2.81c.8-.78.8-2.07 0-2.86zM5.41 20L4 18.59l7.72-7.72 1.47 1.35L5.41 20z\"/>\n",
              "  </svg>\n",
              "      </button>\n",
              "      \n",
              "  <style>\n",
              "    .colab-df-container {\n",
              "      display:flex;\n",
              "      flex-wrap:wrap;\n",
              "      gap: 12px;\n",
              "    }\n",
              "\n",
              "    .colab-df-convert {\n",
              "      background-color: #E8F0FE;\n",
              "      border: none;\n",
              "      border-radius: 50%;\n",
              "      cursor: pointer;\n",
              "      display: none;\n",
              "      fill: #1967D2;\n",
              "      height: 32px;\n",
              "      padding: 0 0 0 0;\n",
              "      width: 32px;\n",
              "    }\n",
              "\n",
              "    .colab-df-convert:hover {\n",
              "      background-color: #E2EBFA;\n",
              "      box-shadow: 0px 1px 2px rgba(60, 64, 67, 0.3), 0px 1px 3px 1px rgba(60, 64, 67, 0.15);\n",
              "      fill: #174EA6;\n",
              "    }\n",
              "\n",
              "    [theme=dark] .colab-df-convert {\n",
              "      background-color: #3B4455;\n",
              "      fill: #D2E3FC;\n",
              "    }\n",
              "\n",
              "    [theme=dark] .colab-df-convert:hover {\n",
              "      background-color: #434B5C;\n",
              "      box-shadow: 0px 1px 3px 1px rgba(0, 0, 0, 0.15);\n",
              "      filter: drop-shadow(0px 1px 2px rgba(0, 0, 0, 0.3));\n",
              "      fill: #FFFFFF;\n",
              "    }\n",
              "  </style>\n",
              "\n",
              "      <script>\n",
              "        const buttonEl =\n",
              "          document.querySelector('#df-96a1a16f-5a35-4d5d-97b2-fc83c2a49be4 button.colab-df-convert');\n",
              "        buttonEl.style.display =\n",
              "          google.colab.kernel.accessAllowed ? 'block' : 'none';\n",
              "\n",
              "        async function convertToInteractive(key) {\n",
              "          const element = document.querySelector('#df-96a1a16f-5a35-4d5d-97b2-fc83c2a49be4');\n",
              "          const dataTable =\n",
              "            await google.colab.kernel.invokeFunction('convertToInteractive',\n",
              "                                                     [key], {});\n",
              "          if (!dataTable) return;\n",
              "\n",
              "          const docLinkHtml = 'Like what you see? Visit the ' +\n",
              "            '<a target=\"_blank\" href=https://colab.research.google.com/notebooks/data_table.ipynb>data table notebook</a>'\n",
              "            + ' to learn more about interactive tables.';\n",
              "          element.innerHTML = '';\n",
              "          dataTable['output_type'] = 'display_data';\n",
              "          await google.colab.output.renderOutput(dataTable, element);\n",
              "          const docLink = document.createElement('div');\n",
              "          docLink.innerHTML = docLinkHtml;\n",
              "          element.appendChild(docLink);\n",
              "        }\n",
              "      </script>\n",
              "    </div>\n",
              "  </div>\n",
              "  "
            ]
          },
          "metadata": {},
          "execution_count": 6
        }
      ]
    },
    {
      "cell_type": "markdown",
      "source": [
        "Пустых значений нет, значит нет отзыва без тектового комментария"
      ],
      "metadata": {
        "id": "ENj4l0lRnWRz"
      }
    },
    {
      "cell_type": "code",
      "source": [
        "df.info()"
      ],
      "metadata": {
        "colab": {
          "base_uri": "https://localhost:8080/"
        },
        "id": "eKIUryoOjGhd",
        "outputId": "0fc3d202-06bc-4505-a9e8-4f908f79d2e4"
      },
      "execution_count": null,
      "outputs": [
        {
          "output_type": "stream",
          "name": "stdout",
          "text": [
            "<class 'pandas.core.frame.DataFrame'>\n",
            "RangeIndex: 131669 entries, 0 to 131668\n",
            "Data columns (total 2 columns):\n",
            " #   Column     Non-Null Count   Dtype \n",
            "---  ------     --------------   ----- \n",
            " 0   review     131669 non-null  object\n",
            " 1   sentiment  131669 non-null  object\n",
            "dtypes: object(2)\n",
            "memory usage: 2.0+ MB\n"
          ]
        }
      ]
    },
    {
      "cell_type": "markdown",
      "source": [
        "Можно увидеть количество позитивных и негативных отзывов в выборке. Числа отличаюются от датасета, предложенного на кагле, видимо, здесь были добавлены новые отзывы"
      ],
      "metadata": {
        "id": "EZtcEcrnm_F7"
      }
    },
    {
      "cell_type": "code",
      "source": [
        "print('Кол-во негативных отзывов:  ', len(df[df['sentiment']=='neg']))\n",
        "print('Кол-во позитивных отзывов:  ', len(df[df['sentiment']=='pos']))\n",
        "print('Кол-во нейтральных отзывов: ', len(df[df['sentiment']=='neu']))"
      ],
      "metadata": {
        "colab": {
          "base_uri": "https://localhost:8080/"
        },
        "id": "rJaobi3VlJhf",
        "outputId": "9067bf5a-63a9-4139-9a57-c8b0607c579d"
      },
      "execution_count": null,
      "outputs": [
        {
          "output_type": "stream",
          "name": "stdout",
          "text": [
            "Кол-во негативных отзывов:   19827\n",
            "Кол-во позитивных отзывов:   87138\n",
            "Кол-во нейтральных отзывов:  24704\n"
          ]
        }
      ]
    },
    {
      "cell_type": "markdown",
      "source": [
        "### **Подготовка выборки**"
      ],
      "metadata": {
        "id": "kC0DqzBIJV8I"
      }
    },
    {
      "cell_type": "markdown",
      "source": [
        "Для того, чтобы обучить модель, необходимо подготовить выборку. Выборка содержит отзыв и целевую переменную, также в виде текста. Поэтому необходимо преобразовать столбец \"review\" и столбец \"sentiment\". А именно: приведение к одному регистру, удаление любых знаков кроме буквенных, удаление стоп-слов для чистоты выборки, лемматизация и конечная токенизация"
      ],
      "metadata": {
        "id": "YGjIZqblJawZ"
      }
    },
    {
      "cell_type": "code",
      "source": [
        "df['review'] = df['review'].str.lower()#приведение к нижнему регистру"
      ],
      "metadata": {
        "id": "AGILBnDFnVLE"
      },
      "execution_count": null,
      "outputs": []
    },
    {
      "cell_type": "code",
      "source": [
        "df['review'] = df['review'].str.replace('[^\\w\\s]','')#удаляем все знаки"
      ],
      "metadata": {
        "colab": {
          "base_uri": "https://localhost:8080/"
        },
        "id": "jDUMYvNvtOTE",
        "outputId": "39184cbd-2bbe-4533-df0f-086249d5e867"
      },
      "execution_count": null,
      "outputs": [
        {
          "output_type": "stream",
          "name": "stderr",
          "text": [
            "/usr/local/lib/python3.7/dist-packages/ipykernel_launcher.py:1: FutureWarning: The default value of regex will change from True to False in a future version.\n",
            "  \"\"\"Entry point for launching an IPython kernel.\n"
          ]
        }
      ]
    },
    {
      "cell_type": "code",
      "source": [
        "df['review'] = df['review'].str.replace('\\n', ' ')#заменяем символы \\n"
      ],
      "metadata": {
        "id": "WhGSomQctIVr"
      },
      "execution_count": null,
      "outputs": []
    },
    {
      "cell_type": "markdown",
      "source": [
        "Дальше необходимо применить частотное разложение слов (токенизация), чтобы передать данные для обучения в модель. Использую для этого готовую библиотеку `nltk`. Также эта библиотека поможет привести слова к одинаковой корневой форме"
      ],
      "metadata": {
        "id": "UE2rZZppxMyO"
      }
    },
    {
      "cell_type": "code",
      "source": [
        "#токенизация\n",
        "df['review'] = df['review'].apply(word_tokenize)"
      ],
      "metadata": {
        "id": "jYRhKMaKxZY_"
      },
      "execution_count": null,
      "outputs": []
    },
    {
      "cell_type": "markdown",
      "source": [
        "Так как широковстречающиеся слова в словаре - предлоги, их необходимо удалить"
      ],
      "metadata": {
        "id": "31YWvPi41snT"
      }
    },
    {
      "cell_type": "code",
      "source": [
        "russian_stopwords = stopwords.words(\"russian\")"
      ],
      "metadata": {
        "id": "f17CybMa1zqy"
      },
      "execution_count": null,
      "outputs": []
    },
    {
      "cell_type": "code",
      "source": [
        "#добавляю слова в словарь стоп-слов, которые также присутствуют в выборке и которые необходимо удалить\n",
        "russian_stopwords.extend(['это', 'который', 'всё', 'которые', 'которая'])"
      ],
      "metadata": {
        "id": "IDYsIvXx3q-G"
      },
      "execution_count": null,
      "outputs": []
    },
    {
      "cell_type": "code",
      "source": [
        "#удаляем стоп-слова\n",
        "df['review'] = df['review'].apply(lambda x: [item for item in x if item not in russian_stopwords])\n",
        "df.head(3)"
      ],
      "metadata": {
        "colab": {
          "base_uri": "https://localhost:8080/",
          "height": 143
        },
        "id": "BYlBzVM0EGRp",
        "outputId": "47fb0d3b-e6a0-4a60-b83e-3dadeb13d947"
      },
      "execution_count": null,
      "outputs": [
        {
          "output_type": "execute_result",
          "data": {
            "text/plain": [
              "                                              review sentiment\n",
              "0  [нередко, представляем, месте, главных, героев...       neg\n",
              "1  [редкий, случай, прекрасной, идеи, требующей, ...       neg\n",
              "2  [слышали, фильм, особенно, грандиозного, успех...       neu"
            ],
            "text/html": [
              "\n",
              "  <div id=\"df-3cf00267-df4f-478b-af46-9f5ee46e5497\">\n",
              "    <div class=\"colab-df-container\">\n",
              "      <div>\n",
              "<style scoped>\n",
              "    .dataframe tbody tr th:only-of-type {\n",
              "        vertical-align: middle;\n",
              "    }\n",
              "\n",
              "    .dataframe tbody tr th {\n",
              "        vertical-align: top;\n",
              "    }\n",
              "\n",
              "    .dataframe thead th {\n",
              "        text-align: right;\n",
              "    }\n",
              "</style>\n",
              "<table border=\"1\" class=\"dataframe\">\n",
              "  <thead>\n",
              "    <tr style=\"text-align: right;\">\n",
              "      <th></th>\n",
              "      <th>review</th>\n",
              "      <th>sentiment</th>\n",
              "    </tr>\n",
              "  </thead>\n",
              "  <tbody>\n",
              "    <tr>\n",
              "      <th>0</th>\n",
              "      <td>[нередко, представляем, месте, главных, героев...</td>\n",
              "      <td>neg</td>\n",
              "    </tr>\n",
              "    <tr>\n",
              "      <th>1</th>\n",
              "      <td>[редкий, случай, прекрасной, идеи, требующей, ...</td>\n",
              "      <td>neg</td>\n",
              "    </tr>\n",
              "    <tr>\n",
              "      <th>2</th>\n",
              "      <td>[слышали, фильм, особенно, грандиозного, успех...</td>\n",
              "      <td>neu</td>\n",
              "    </tr>\n",
              "  </tbody>\n",
              "</table>\n",
              "</div>\n",
              "      <button class=\"colab-df-convert\" onclick=\"convertToInteractive('df-3cf00267-df4f-478b-af46-9f5ee46e5497')\"\n",
              "              title=\"Convert this dataframe to an interactive table.\"\n",
              "              style=\"display:none;\">\n",
              "        \n",
              "  <svg xmlns=\"http://www.w3.org/2000/svg\" height=\"24px\"viewBox=\"0 0 24 24\"\n",
              "       width=\"24px\">\n",
              "    <path d=\"M0 0h24v24H0V0z\" fill=\"none\"/>\n",
              "    <path d=\"M18.56 5.44l.94 2.06.94-2.06 2.06-.94-2.06-.94-.94-2.06-.94 2.06-2.06.94zm-11 1L8.5 8.5l.94-2.06 2.06-.94-2.06-.94L8.5 2.5l-.94 2.06-2.06.94zm10 10l.94 2.06.94-2.06 2.06-.94-2.06-.94-.94-2.06-.94 2.06-2.06.94z\"/><path d=\"M17.41 7.96l-1.37-1.37c-.4-.4-.92-.59-1.43-.59-.52 0-1.04.2-1.43.59L10.3 9.45l-7.72 7.72c-.78.78-.78 2.05 0 2.83L4 21.41c.39.39.9.59 1.41.59.51 0 1.02-.2 1.41-.59l7.78-7.78 2.81-2.81c.8-.78.8-2.07 0-2.86zM5.41 20L4 18.59l7.72-7.72 1.47 1.35L5.41 20z\"/>\n",
              "  </svg>\n",
              "      </button>\n",
              "      \n",
              "  <style>\n",
              "    .colab-df-container {\n",
              "      display:flex;\n",
              "      flex-wrap:wrap;\n",
              "      gap: 12px;\n",
              "    }\n",
              "\n",
              "    .colab-df-convert {\n",
              "      background-color: #E8F0FE;\n",
              "      border: none;\n",
              "      border-radius: 50%;\n",
              "      cursor: pointer;\n",
              "      display: none;\n",
              "      fill: #1967D2;\n",
              "      height: 32px;\n",
              "      padding: 0 0 0 0;\n",
              "      width: 32px;\n",
              "    }\n",
              "\n",
              "    .colab-df-convert:hover {\n",
              "      background-color: #E2EBFA;\n",
              "      box-shadow: 0px 1px 2px rgba(60, 64, 67, 0.3), 0px 1px 3px 1px rgba(60, 64, 67, 0.15);\n",
              "      fill: #174EA6;\n",
              "    }\n",
              "\n",
              "    [theme=dark] .colab-df-convert {\n",
              "      background-color: #3B4455;\n",
              "      fill: #D2E3FC;\n",
              "    }\n",
              "\n",
              "    [theme=dark] .colab-df-convert:hover {\n",
              "      background-color: #434B5C;\n",
              "      box-shadow: 0px 1px 3px 1px rgba(0, 0, 0, 0.15);\n",
              "      filter: drop-shadow(0px 1px 2px rgba(0, 0, 0, 0.3));\n",
              "      fill: #FFFFFF;\n",
              "    }\n",
              "  </style>\n",
              "\n",
              "      <script>\n",
              "        const buttonEl =\n",
              "          document.querySelector('#df-3cf00267-df4f-478b-af46-9f5ee46e5497 button.colab-df-convert');\n",
              "        buttonEl.style.display =\n",
              "          google.colab.kernel.accessAllowed ? 'block' : 'none';\n",
              "\n",
              "        async function convertToInteractive(key) {\n",
              "          const element = document.querySelector('#df-3cf00267-df4f-478b-af46-9f5ee46e5497');\n",
              "          const dataTable =\n",
              "            await google.colab.kernel.invokeFunction('convertToInteractive',\n",
              "                                                     [key], {});\n",
              "          if (!dataTable) return;\n",
              "\n",
              "          const docLinkHtml = 'Like what you see? Visit the ' +\n",
              "            '<a target=\"_blank\" href=https://colab.research.google.com/notebooks/data_table.ipynb>data table notebook</a>'\n",
              "            + ' to learn more about interactive tables.';\n",
              "          element.innerHTML = '';\n",
              "          dataTable['output_type'] = 'display_data';\n",
              "          await google.colab.output.renderOutput(dataTable, element);\n",
              "          const docLink = document.createElement('div');\n",
              "          docLink.innerHTML = docLinkHtml;\n",
              "          element.appendChild(docLink);\n",
              "        }\n",
              "      </script>\n",
              "    </div>\n",
              "  </div>\n",
              "  "
            ]
          },
          "metadata": {},
          "execution_count": 83
        }
      ]
    },
    {
      "cell_type": "code",
      "source": [
        "lemmatize = nltk.WordNetLemmatizer()#объявление класса лемматизатора\n",
        "#приведение слов к конкретным корневым формам\n",
        "df['review'] = df['review'].apply(lambda x: [lemmatize.lemmatize(word) for word in x])"
      ],
      "metadata": {
        "id": "_PQzvjqWE2Qx"
      },
      "execution_count": null,
      "outputs": []
    },
    {
      "cell_type": "markdown",
      "source": [
        "Дальше столбец необходимо токенизировать - перевести слова в числа. Использовала для этого библиотеку keras"
      ],
      "metadata": {
        "id": "XJifjRFkLROQ"
      }
    },
    {
      "cell_type": "code",
      "source": [
        "vocab_size = 10000 #размер словаря"
      ],
      "metadata": {
        "id": "uod9U2k1R4Eq"
      },
      "execution_count": null,
      "outputs": []
    },
    {
      "cell_type": "code",
      "source": [
        "tokenizer = Tokenizer(num_words=vocab_size)#объявление класса токенизатора\n",
        "tokenizer.fit_on_texts(df['review'])#создание словаря на основе отзывов выборки"
      ],
      "metadata": {
        "id": "W8CeWMzpLedA"
      },
      "execution_count": null,
      "outputs": []
    },
    {
      "cell_type": "code",
      "source": [
        "#перевод токенизированных слов в массив цифр\n",
        "df['review'] = tokenizer.texts_to_sequences(np.array(df['review']))"
      ],
      "metadata": {
        "id": "FrSByHwfLvL7"
      },
      "execution_count": null,
      "outputs": []
    },
    {
      "cell_type": "markdown",
      "source": [
        "Так как необходимо было произвести предсказание аналогичное предсказанию imdb, то строки, содержащие нейтральные отзывы, я удалила из выборки"
      ],
      "metadata": {
        "id": "gb4gn5ucLzix"
      }
    },
    {
      "cell_type": "code",
      "source": [
        "df = df.drop(np.where(df['sentiment'] == 'neu')[0])#удаление нейтральных отзывов"
      ],
      "metadata": {
        "id": "C6YB9HyqPrC7"
      },
      "execution_count": null,
      "outputs": []
    },
    {
      "cell_type": "markdown",
      "source": [
        "Дальше необходимо произвести преобразование столбца \"sentiment\" к виду 0 и 1. Я не использовала здесь метод one-hot-encoded, так как не совсем понимаю его использование при таком обучении"
      ],
      "metadata": {
        "id": "UmLbEePSMRlL"
      }
    },
    {
      "cell_type": "code",
      "source": [
        "df['sentiment'] = df['sentiment'].replace('neg', 0)\n",
        "df['sentiment'] = df['sentiment'].replace('pos', 1)"
      ],
      "metadata": {
        "id": "KYKGW2mMEm-w"
      },
      "execution_count": null,
      "outputs": []
    },
    {
      "cell_type": "code",
      "source": [
        "df.head()#вывод записей для проверки"
      ],
      "metadata": {
        "colab": {
          "base_uri": "https://localhost:8080/",
          "height": 206
        },
        "id": "zgD5pYI_OOcr",
        "outputId": "e3463bec-ae42-49f2-aacd-13523effea9c"
      },
      "execution_count": null,
      "outputs": [
        {
          "output_type": "execute_result",
          "data": {
            "text/plain": [
              "                                              review  sentiment\n",
              "0  [5873, 377, 166, 25, 241, 377, 326, 3276, 1979...          0\n",
              "1  [3244, 956, 1792, 665, 997, 2517, 7681, 115, 9...          0\n",
              "3  [518, 1601, 1720, 37, 7127, 743, 148, 324, 100...          0\n",
              "4  [441, 388, 116, 273, 250, 322, 656, 1991, 3161...          1\n",
              "5  [40, 6599, 2939, 989, 2932, 5554, 4345, 6918, ...          1"
            ],
            "text/html": [
              "\n",
              "  <div id=\"df-f6df088a-4435-4456-be88-5a4050d6e247\">\n",
              "    <div class=\"colab-df-container\">\n",
              "      <div>\n",
              "<style scoped>\n",
              "    .dataframe tbody tr th:only-of-type {\n",
              "        vertical-align: middle;\n",
              "    }\n",
              "\n",
              "    .dataframe tbody tr th {\n",
              "        vertical-align: top;\n",
              "    }\n",
              "\n",
              "    .dataframe thead th {\n",
              "        text-align: right;\n",
              "    }\n",
              "</style>\n",
              "<table border=\"1\" class=\"dataframe\">\n",
              "  <thead>\n",
              "    <tr style=\"text-align: right;\">\n",
              "      <th></th>\n",
              "      <th>review</th>\n",
              "      <th>sentiment</th>\n",
              "    </tr>\n",
              "  </thead>\n",
              "  <tbody>\n",
              "    <tr>\n",
              "      <th>0</th>\n",
              "      <td>[5873, 377, 166, 25, 241, 377, 326, 3276, 1979...</td>\n",
              "      <td>0</td>\n",
              "    </tr>\n",
              "    <tr>\n",
              "      <th>1</th>\n",
              "      <td>[3244, 956, 1792, 665, 997, 2517, 7681, 115, 9...</td>\n",
              "      <td>0</td>\n",
              "    </tr>\n",
              "    <tr>\n",
              "      <th>3</th>\n",
              "      <td>[518, 1601, 1720, 37, 7127, 743, 148, 324, 100...</td>\n",
              "      <td>0</td>\n",
              "    </tr>\n",
              "    <tr>\n",
              "      <th>4</th>\n",
              "      <td>[441, 388, 116, 273, 250, 322, 656, 1991, 3161...</td>\n",
              "      <td>1</td>\n",
              "    </tr>\n",
              "    <tr>\n",
              "      <th>5</th>\n",
              "      <td>[40, 6599, 2939, 989, 2932, 5554, 4345, 6918, ...</td>\n",
              "      <td>1</td>\n",
              "    </tr>\n",
              "  </tbody>\n",
              "</table>\n",
              "</div>\n",
              "      <button class=\"colab-df-convert\" onclick=\"convertToInteractive('df-f6df088a-4435-4456-be88-5a4050d6e247')\"\n",
              "              title=\"Convert this dataframe to an interactive table.\"\n",
              "              style=\"display:none;\">\n",
              "        \n",
              "  <svg xmlns=\"http://www.w3.org/2000/svg\" height=\"24px\"viewBox=\"0 0 24 24\"\n",
              "       width=\"24px\">\n",
              "    <path d=\"M0 0h24v24H0V0z\" fill=\"none\"/>\n",
              "    <path d=\"M18.56 5.44l.94 2.06.94-2.06 2.06-.94-2.06-.94-.94-2.06-.94 2.06-2.06.94zm-11 1L8.5 8.5l.94-2.06 2.06-.94-2.06-.94L8.5 2.5l-.94 2.06-2.06.94zm10 10l.94 2.06.94-2.06 2.06-.94-2.06-.94-.94-2.06-.94 2.06-2.06.94z\"/><path d=\"M17.41 7.96l-1.37-1.37c-.4-.4-.92-.59-1.43-.59-.52 0-1.04.2-1.43.59L10.3 9.45l-7.72 7.72c-.78.78-.78 2.05 0 2.83L4 21.41c.39.39.9.59 1.41.59.51 0 1.02-.2 1.41-.59l7.78-7.78 2.81-2.81c.8-.78.8-2.07 0-2.86zM5.41 20L4 18.59l7.72-7.72 1.47 1.35L5.41 20z\"/>\n",
              "  </svg>\n",
              "      </button>\n",
              "      \n",
              "  <style>\n",
              "    .colab-df-container {\n",
              "      display:flex;\n",
              "      flex-wrap:wrap;\n",
              "      gap: 12px;\n",
              "    }\n",
              "\n",
              "    .colab-df-convert {\n",
              "      background-color: #E8F0FE;\n",
              "      border: none;\n",
              "      border-radius: 50%;\n",
              "      cursor: pointer;\n",
              "      display: none;\n",
              "      fill: #1967D2;\n",
              "      height: 32px;\n",
              "      padding: 0 0 0 0;\n",
              "      width: 32px;\n",
              "    }\n",
              "\n",
              "    .colab-df-convert:hover {\n",
              "      background-color: #E2EBFA;\n",
              "      box-shadow: 0px 1px 2px rgba(60, 64, 67, 0.3), 0px 1px 3px 1px rgba(60, 64, 67, 0.15);\n",
              "      fill: #174EA6;\n",
              "    }\n",
              "\n",
              "    [theme=dark] .colab-df-convert {\n",
              "      background-color: #3B4455;\n",
              "      fill: #D2E3FC;\n",
              "    }\n",
              "\n",
              "    [theme=dark] .colab-df-convert:hover {\n",
              "      background-color: #434B5C;\n",
              "      box-shadow: 0px 1px 3px 1px rgba(0, 0, 0, 0.15);\n",
              "      filter: drop-shadow(0px 1px 2px rgba(0, 0, 0, 0.3));\n",
              "      fill: #FFFFFF;\n",
              "    }\n",
              "  </style>\n",
              "\n",
              "      <script>\n",
              "        const buttonEl =\n",
              "          document.querySelector('#df-f6df088a-4435-4456-be88-5a4050d6e247 button.colab-df-convert');\n",
              "        buttonEl.style.display =\n",
              "          google.colab.kernel.accessAllowed ? 'block' : 'none';\n",
              "\n",
              "        async function convertToInteractive(key) {\n",
              "          const element = document.querySelector('#df-f6df088a-4435-4456-be88-5a4050d6e247');\n",
              "          const dataTable =\n",
              "            await google.colab.kernel.invokeFunction('convertToInteractive',\n",
              "                                                     [key], {});\n",
              "          if (!dataTable) return;\n",
              "\n",
              "          const docLinkHtml = 'Like what you see? Visit the ' +\n",
              "            '<a target=\"_blank\" href=https://colab.research.google.com/notebooks/data_table.ipynb>data table notebook</a>'\n",
              "            + ' to learn more about interactive tables.';\n",
              "          element.innerHTML = '';\n",
              "          dataTable['output_type'] = 'display_data';\n",
              "          await google.colab.output.renderOutput(dataTable, element);\n",
              "          const docLink = document.createElement('div');\n",
              "          docLink.innerHTML = docLinkHtml;\n",
              "          element.appendChild(docLink);\n",
              "        }\n",
              "      </script>\n",
              "    </div>\n",
              "  </div>\n",
              "  "
            ]
          },
          "metadata": {},
          "execution_count": 90
        }
      ]
    },
    {
      "cell_type": "code",
      "source": [
        "#разделяю всю выборку на две части - для обучения и тестирования в соотношении 33% к 67%\n",
        "x_train, x_test, y_train, y_test = train_test_split(df['review'].values, df['sentiment'].values, test_size = 0.33, random_state = 42)"
      ],
      "metadata": {
        "id": "GPj1G41IRRf1"
      },
      "execution_count": null,
      "outputs": []
    },
    {
      "cell_type": "markdown",
      "source": [
        "Дальнейшее преобразование происходит по аналогии с преобразованиями данных для imdb"
      ],
      "metadata": {
        "id": "3cnO1qpRM6Fv"
      }
    },
    {
      "cell_type": "code",
      "source": [
        "allreviews = np.concatenate((x_train, x_test), axis=0)"
      ],
      "metadata": {
        "id": "UpHy2fIURhKQ"
      },
      "execution_count": null,
      "outputs": []
    },
    {
      "cell_type": "code",
      "source": [
        "#смотрим максимальную и минимальную длину отзывов, а также среднее\n",
        "print(\"Максимальная длина отзыва: {}\".format(len(max((allreviews), key=len))))\n",
        "print(\"Минимальная длина отзыва:  {}\".format(len(min((allreviews), key=len))))\n",
        "result = [len(x) for x in allreviews]\n",
        "print(\"Средняя длина отзыва:      {}\".format(np.mean(result)))"
      ],
      "metadata": {
        "colab": {
          "base_uri": "https://localhost:8080/"
        },
        "id": "umjedkp7UfoQ",
        "outputId": "3b8ef8a3-79bd-4b27-945e-3c3c54ba9f15"
      },
      "execution_count": null,
      "outputs": [
        {
          "output_type": "stream",
          "name": "stdout",
          "text": [
            "Maximum review length: 875\n",
            "Minimum review length: 3\n",
            "Mean review length: 147.27356477226985\n"
          ]
        }
      ]
    },
    {
      "cell_type": "code",
      "source": [
        "#определяю усредненную длину отзыва\n",
        "review_length = 100"
      ],
      "metadata": {
        "id": "tiAikURuUqvg"
      },
      "execution_count": null,
      "outputs": []
    },
    {
      "cell_type": "code",
      "source": [
        "#приведение каждого отзыва к выбранной длине\n",
        "x_train = sequence.pad_sequences(x_train, maxlen = review_length,padding='post')\n",
        "x_test = sequence.pad_sequences(x_test, maxlen = review_length,padding='post')"
      ],
      "metadata": {
        "id": "6yQpjizTUssk"
      },
      "execution_count": null,
      "outputs": []
    },
    {
      "cell_type": "code",
      "source": [
        "print(\"Размер массива отзывов для обучения: \" + str(x_train.shape))\n",
        "print(\"Размер массива Y для обучения:       \" + str(y_train.shape))\n",
        "print(\"Размер массива отзывов для теста:    \" + str(x_test.shape))\n",
        "print(\"Размер массива Y для теста:          \" + str(y_test.shape))"
      ],
      "metadata": {
        "colab": {
          "base_uri": "https://localhost:8080/"
        },
        "id": "677nKxl8Ux0k",
        "outputId": "e9deee3a-07c9-4f46-bef1-1789d42be671"
      },
      "execution_count": null,
      "outputs": [
        {
          "output_type": "stream",
          "name": "stdout",
          "text": [
            "Shape Training Review Data: (88218, 100)\n",
            "Shape Training Class Data: (88218,)\n",
            "Shape Test Review Data: (43451, 100)\n",
            "Shape Test Class Data: (43451,)\n"
          ]
        }
      ]
    },
    {
      "cell_type": "markdown",
      "source": [
        "### **Сборка, обучение и тестирование модели**"
      ],
      "metadata": {
        "id": "jUXR6a8AN8_j"
      }
    },
    {
      "cell_type": "markdown",
      "source": [
        "Данный блок полностью такой же, как блок с блокнота практики. Единственное - я уже настроила модель на наиболее лучший результат `accuracy` относительно тестовой выборки"
      ],
      "metadata": {
        "id": "uduM-FA0PyPe"
      }
    },
    {
      "cell_type": "code",
      "source": [
        "tf.keras.layers.Bidirectional(tf.keras.layers.LSTM(\n",
        "        units=32\n",
        "    ))"
      ],
      "metadata": {
        "colab": {
          "base_uri": "https://localhost:8080/"
        },
        "id": "huurUj0XU1h2",
        "outputId": "5f6c4cb4-433b-4e06-8fc7-957a49570d4b"
      },
      "execution_count": null,
      "outputs": [
        {
          "output_type": "execute_result",
          "data": {
            "text/plain": [
              "<keras.layers.wrappers.Bidirectional at 0x7f132695ee50>"
            ]
          },
          "metadata": {},
          "execution_count": 34
        }
      ]
    },
    {
      "cell_type": "code",
      "source": [
        "model = tf.keras.models.Sequential()\n",
        "\n",
        "model.add(\n",
        "    tf.keras.layers.Embedding(\n",
        "        input_dim = vocab_size,\n",
        "        output_dim = 64,\n",
        "        input_length = review_length\n",
        "    )\n",
        ")\n",
        "\n",
        "model.add(\n",
        "    tf.keras.layers.Dropout(\n",
        "        rate=0.2\n",
        "    )\n",
        ")\n",
        "\n",
        "model.add(\n",
        "    tf.keras.layers.LSTM(\n",
        "        units=32\n",
        "    )\n",
        ")\n",
        "\n",
        "model.add(\n",
        "    tf.keras.layers.Dropout(\n",
        "        rate=0.2\n",
        "    )\n",
        ")\n",
        "\n",
        "model.add(\n",
        "    tf.keras.layers.Dense(\n",
        "        units=1,\n",
        "        activation='sigmoid'\n",
        "    )\n",
        ")\n",
        "\n",
        "model.compile(\n",
        "    loss=tf.keras.losses.binary_crossentropy,\n",
        "    optimizer=tf.keras.optimizers.Adam(),\n",
        "    metrics=['accuracy'])\n",
        "\n",
        "model.summary()"
      ],
      "metadata": {
        "colab": {
          "base_uri": "https://localhost:8080/"
        },
        "id": "_jxBlGkVU6v3",
        "outputId": "ef616323-a6ea-46eb-b9b7-3875ab5145d6"
      },
      "execution_count": null,
      "outputs": [
        {
          "output_type": "stream",
          "name": "stdout",
          "text": [
            "Model: \"sequential_4\"\n",
            "_________________________________________________________________\n",
            " Layer (type)                Output Shape              Param #   \n",
            "=================================================================\n",
            " embedding_4 (Embedding)     (None, 100, 64)           640000    \n",
            "                                                                 \n",
            " dropout_4 (Dropout)         (None, 100, 64)           0         \n",
            "                                                                 \n",
            " lstm_5 (LSTM)               (None, 32)                12416     \n",
            "                                                                 \n",
            " dropout_5 (Dropout)         (None, 32)                0         \n",
            "                                                                 \n",
            " dense_4 (Dense)             (None, 1)                 33        \n",
            "                                                                 \n",
            "=================================================================\n",
            "Total params: 652,449\n",
            "Trainable params: 652,449\n",
            "Non-trainable params: 0\n",
            "_________________________________________________________________\n"
          ]
        }
      ]
    },
    {
      "cell_type": "code",
      "source": [
        "history = model.fit(\n",
        "    x_train, y_train,\n",
        "    batch_size=128,\n",
        "    epochs=6,\n",
        "    validation_split=0.2,\n",
        "    verbose=1\n",
        ")"
      ],
      "metadata": {
        "colab": {
          "base_uri": "https://localhost:8080/"
        },
        "id": "REO3X_-sVmPq",
        "outputId": "ef19939a-64c7-4881-bb29-53faaaf51e44"
      },
      "execution_count": null,
      "outputs": [
        {
          "output_type": "stream",
          "name": "stdout",
          "text": [
            "Epoch 1/6\n",
            "448/448 [==============================] - 37s 79ms/step - loss: 0.2370 - accuracy: 0.9086 - val_loss: 0.1278 - val_accuracy: 0.9554\n",
            "Epoch 2/6\n",
            "448/448 [==============================] - 35s 79ms/step - loss: 0.0943 - accuracy: 0.9699 - val_loss: 0.1178 - val_accuracy: 0.9608\n",
            "Epoch 3/6\n",
            "448/448 [==============================] - 35s 78ms/step - loss: 0.0649 - accuracy: 0.9808 - val_loss: 0.1201 - val_accuracy: 0.9618\n",
            "Epoch 4/6\n",
            "448/448 [==============================] - 35s 78ms/step - loss: 0.0476 - accuracy: 0.9868 - val_loss: 0.1377 - val_accuracy: 0.9633\n",
            "Epoch 5/6\n",
            "448/448 [==============================] - 35s 79ms/step - loss: 0.0416 - accuracy: 0.9889 - val_loss: 0.1461 - val_accuracy: 0.9600\n",
            "Epoch 6/6\n",
            "448/448 [==============================] - 35s 77ms/step - loss: 0.0340 - accuracy: 0.9913 - val_loss: 0.1477 - val_accuracy: 0.9630\n"
          ]
        }
      ]
    },
    {
      "cell_type": "markdown",
      "source": [
        "В итоге на 6 эпохах тестовый результат `accuracy = 0.9650`"
      ],
      "metadata": {
        "id": "cGpc_qSnRRwk"
      }
    },
    {
      "cell_type": "code",
      "source": [
        "loss, acc = model.evaluate(x_test,y_test)"
      ],
      "metadata": {
        "colab": {
          "base_uri": "https://localhost:8080/"
        },
        "id": "B9Q4Qw1TH_qe",
        "outputId": "6565ad02-2f95-4b9d-97b6-f3a2a5af8e07"
      },
      "execution_count": null,
      "outputs": [
        {
          "output_type": "stream",
          "name": "stdout",
          "text": [
            "1104/1104 [==============================] - 11s 10ms/step - loss: 0.1381 - accuracy: 0.9650\n"
          ]
        }
      ]
    },
    {
      "cell_type": "markdown",
      "metadata": {
        "id": "OlAfxIoTrtYa"
      },
      "source": [
        "### **Проверка модели на собственных данных**\n",
        "\n"
      ]
    },
    {
      "cell_type": "markdown",
      "source": [
        "Было выбрано 3 отзыва: один из которых позитивный, другой - негативный, а третий - нейтральный. Данные отзывы прошли преобразования такие же, как основная выборка, перед тем, как были переданы в модель"
      ],
      "metadata": {
        "id": "zCfrHHaKYUeC"
      }
    },
    {
      "cell_type": "code",
      "source": [
        "review_neg = \"это был ужасный фильм в котором было слишком много крови и насилия\"\n",
        "review_pos = \"это лучший фильм который я когда-либо видел он великолепен и фантастичен и мне он понравился\"\n",
        "review_neu = \"непонятный фильм я не знаю плохой он или хороший\""
      ],
      "metadata": {
        "id": "Cdn3cVa9TEQR"
      },
      "execution_count": null,
      "outputs": []
    },
    {
      "cell_type": "code",
      "source": [
        "#токенизация\n",
        "review_neg_arr = word_tokenize(review_neg)\n",
        "review_pos_arr = word_tokenize(review_pos)\n",
        "review_neu_arr = word_tokenize(review_neu)"
      ],
      "metadata": {
        "id": "Yv7STpveTt7S"
      },
      "execution_count": null,
      "outputs": []
    },
    {
      "cell_type": "code",
      "source": [
        "#удаление стоп-слов\n",
        "review_neg_arr = [item for item in review_neg_arr if item not in russian_stopwords]\n",
        "review_pos_arr = [item for item in review_pos_arr if item not in russian_stopwords]\n",
        "review_neu_arr = [item for item in review_neu_arr if item not in russian_stopwords]"
      ],
      "metadata": {
        "id": "ZzwKdnr6UKW0"
      },
      "execution_count": null,
      "outputs": []
    },
    {
      "cell_type": "code",
      "source": [
        "#лемматизация\n",
        "review_neg_arr = [lemmatize.lemmatize(word) for word in review_neg_arr]\n",
        "review_pos_arr = [lemmatize.lemmatize(word) for word in review_pos_arr]\n",
        "review_neu_arr = [lemmatize.lemmatize(word) for word in review_neu_arr]"
      ],
      "metadata": {
        "id": "x4_07Cl0Ub2P"
      },
      "execution_count": null,
      "outputs": []
    },
    {
      "cell_type": "code",
      "source": [
        "#приведение к цифровому формату\n",
        "reviews= tokenizer.texts_to_sequences((review_neg_arr, review_pos_arr, review_neu_arr))"
      ],
      "metadata": {
        "id": "GugyVZ7qUp_Z"
      },
      "execution_count": null,
      "outputs": []
    },
    {
      "cell_type": "code",
      "source": [
        "#дополнение до недостающей длины отзыва\n",
        "reviews = sequence.pad_sequences(reviews, maxlen = review_length,padding='post')"
      ],
      "metadata": {
        "id": "Q7HxKQs0VfmZ"
      },
      "execution_count": null,
      "outputs": []
    },
    {
      "cell_type": "code",
      "source": [
        "reviews"
      ],
      "metadata": {
        "colab": {
          "base_uri": "https://localhost:8080/"
        },
        "id": "3ML8R2HIUYbA",
        "outputId": "865e4873-5176-45f9-d664-f55c60b10d08"
      },
      "execution_count": null,
      "outputs": [
        {
          "output_type": "execute_result",
          "data": {
            "text/plain": [
              "array([[4005,    1,  176,   73,  744, 1651,    0,    0,    0,    0,    0,\n",
              "           0,    0,    0,    0,    0,    0,    0,    0,    0,    0,    0,\n",
              "           0,    0,    0,    0,    0,    0,    0,    0,    0,    0,    0,\n",
              "           0,    0,    0,    0,    0,    0,    0,    0,    0,    0,    0,\n",
              "           0,    0,    0,    0,    0,    0,    0,    0,    0,    0,    0,\n",
              "           0,    0,    0,    0,    0,    0,    0,    0,    0,    0,    0,\n",
              "           0,    0,    0,    0,    0,    0,    0,    0,    0,    0,    0,\n",
              "           0,    0,    0,    0,    0,    0,    0,    0,    0,    0,    0,\n",
              "           0,    0,    0,    0,    0,    0,    0,    0,    0,    0,    0,\n",
              "           0],\n",
              "       [ 596,    1,  459, 2339,  198,    0,    0,    0,    0,    0,    0,\n",
              "           0,    0,    0,    0,    0,    0,    0,    0,    0,    0,    0,\n",
              "           0,    0,    0,    0,    0,    0,    0,    0,    0,    0,    0,\n",
              "           0,    0,    0,    0,    0,    0,    0,    0,    0,    0,    0,\n",
              "           0,    0,    0,    0,    0,    0,    0,    0,    0,    0,    0,\n",
              "           0,    0,    0,    0,    0,    0,    0,    0,    0,    0,    0,\n",
              "           0,    0,    0,    0,    0,    0,    0,    0,    0,    0,    0,\n",
              "           0,    0,    0,    0,    0,    0,    0,    0,    0,    0,    0,\n",
              "           0,    0,    0,    0,    0,    0,    0,    0,    0,    0,    0,\n",
              "           0],\n",
              "       [9299,    1,  220,  871,  268,    0,    0,    0,    0,    0,    0,\n",
              "           0,    0,    0,    0,    0,    0,    0,    0,    0,    0,    0,\n",
              "           0,    0,    0,    0,    0,    0,    0,    0,    0,    0,    0,\n",
              "           0,    0,    0,    0,    0,    0,    0,    0,    0,    0,    0,\n",
              "           0,    0,    0,    0,    0,    0,    0,    0,    0,    0,    0,\n",
              "           0,    0,    0,    0,    0,    0,    0,    0,    0,    0,    0,\n",
              "           0,    0,    0,    0,    0,    0,    0,    0,    0,    0,    0,\n",
              "           0,    0,    0,    0,    0,    0,    0,    0,    0,    0,    0,\n",
              "           0,    0,    0,    0,    0,    0,    0,    0,    0,    0,    0,\n",
              "           0]], dtype=int32)"
            ]
          },
          "metadata": {},
          "execution_count": 188
        }
      ]
    },
    {
      "cell_type": "code",
      "source": [
        "#предсказание модели\n",
        "rawprediction = model.predict(reviews)"
      ],
      "metadata": {
        "id": "L2FkpaJQVooJ"
      },
      "execution_count": null,
      "outputs": []
    },
    {
      "cell_type": "code",
      "source": [
        "rawprediction"
      ],
      "metadata": {
        "colab": {
          "base_uri": "https://localhost:8080/"
        },
        "id": "Kr9XhBKJVw3X",
        "outputId": "b11399ba-3023-4425-fbbe-7b5a960b616e"
      },
      "execution_count": null,
      "outputs": [
        {
          "output_type": "execute_result",
          "data": {
            "text/plain": [
              "array([[0.0204294],\n",
              "       [0.9984918],\n",
              "       [0.9972646]], dtype=float32)"
            ]
          },
          "metadata": {},
          "execution_count": 190
        }
      ]
    },
    {
      "cell_type": "markdown",
      "source": [
        "После предсказания модели её показания необходимо округлить к 0 или 1"
      ],
      "metadata": {
        "id": "ksQP4qh9ZCfg"
      }
    },
    {
      "cell_type": "code",
      "source": [
        "predictions = []\n",
        "for i in rawprediction:\n",
        "  for j in i:\n",
        "    predictions.append(int(round(j)))\n",
        "print(predictions)"
      ],
      "metadata": {
        "colab": {
          "base_uri": "https://localhost:8080/"
        },
        "id": "hMb_IWFIWSGR",
        "outputId": "8acb6b85-8802-4065-84c3-594fa67e81d0"
      },
      "execution_count": null,
      "outputs": [
        {
          "output_type": "stream",
          "name": "stdout",
          "text": [
            "[0, 1, 1]\n"
          ]
        }
      ]
    },
    {
      "cell_type": "code",
      "execution_count": null,
      "metadata": {
        "colab": {
          "base_uri": "https://localhost:8080/"
        },
        "id": "UEKEB0DpD_8P",
        "outputId": "50b71df6-ded4-4561-9d44-5489ac2c1a3f"
      },
      "outputs": [
        {
          "output_type": "stream",
          "name": "stdout",
          "text": [
            "Отзыв: это был ужасный фильм в котором было слишком много крови и насилия\n",
            "Этот отзыв  негативный\n"
          ]
        }
      ],
      "source": [
        "print(\"Отзыв: \" + review_neg)\n",
        "print(\"Этот отзыв \", 'негативный' if predictions[0]==0 else 'позитивный')"
      ]
    },
    {
      "cell_type": "code",
      "source": [
        "print(\"Отзыв: \" + review_pos)\n",
        "print(\"Этот отзыв \", 'негативный' if predictions[1]==0 else 'позитивный')"
      ],
      "metadata": {
        "colab": {
          "base_uri": "https://localhost:8080/"
        },
        "id": "EnAMERU8XjaE",
        "outputId": "71673369-daf6-4052-f67b-59b4c9b471c4"
      },
      "execution_count": null,
      "outputs": [
        {
          "output_type": "stream",
          "name": "stdout",
          "text": [
            "Отзыв: это лучший фильм который я когда-либо видел он великолепен и фантастичен и мне он понравился\n",
            "Этот отзыв  позитивный\n"
          ]
        }
      ]
    },
    {
      "cell_type": "code",
      "source": [
        "print(\"Отзыв: \" + review_neu)\n",
        "print(\"Этот отзыв \", 'негативный' if predictions[2]==0 else 'позитивный')"
      ],
      "metadata": {
        "colab": {
          "base_uri": "https://localhost:8080/"
        },
        "id": "MOIeVs_UYEuX",
        "outputId": "f883e9f7-880b-4628-bd32-d3ea66365616"
      },
      "execution_count": null,
      "outputs": [
        {
          "output_type": "stream",
          "name": "stdout",
          "text": [
            "Отзыв: непонятный фильм я не знаю плохой он или хороший\n",
            "Этот отзыв  позитивный\n"
          ]
        }
      ]
    },
    {
      "cell_type": "markdown",
      "source": [
        "Вывод: В целом модель явно отличила негативный и позитивный отзывы. Однако нейтральный отзыв, так как подобного при обучении не было, она отнесла к позитивному. Если бы обучение проходило на трех показателях, то она могла бы отличить и данный отзыв. Спасибо за проверку работы"
      ],
      "metadata": {
        "id": "qQcqO5M-ZM7d"
      }
    }
  ],
  "metadata": {
    "accelerator": "GPU",
    "colab": {
      "collapsed_sections": [
        "5sPeJjYVH6sh"
      ],
      "machine_shape": "hm",
      "provenance": [],
      "toc_visible": true
    },
    "kernelspec": {
      "display_name": "Python 3",
      "name": "python3"
    }
  },
  "nbformat": 4,
  "nbformat_minor": 0
}